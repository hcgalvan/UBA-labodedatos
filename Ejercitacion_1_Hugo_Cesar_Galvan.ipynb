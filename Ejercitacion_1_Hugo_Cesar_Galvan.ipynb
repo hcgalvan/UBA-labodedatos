{
  "nbformat": 4,
  "nbformat_minor": 0,
  "metadata": {
    "colab": {
      "name": "Ejercitacion 1 Hugo Cesar Galvan.ipynb",
      "provenance": [],
      "collapsed_sections": [],
      "authorship_tag": "ABX9TyNHt9zJMQ1m3hqo+AS3n6AJ",
      "include_colab_link": true
    },
    "kernelspec": {
      "name": "python3",
      "display_name": "Python 3"
    },
    "language_info": {
      "name": "python"
    }
  },
  "cells": [
    {
      "cell_type": "markdown",
      "metadata": {
        "id": "view-in-github",
        "colab_type": "text"
      },
      "source": [
        "<a href=\"https://colab.research.google.com/github/hcgalvan/labodedatos/blob/main/Ejercitacion_1_Hugo_Cesar_Galvan.ipynb\" target=\"_parent\"><img src=\"https://colab.research.google.com/assets/colab-badge.svg\" alt=\"Open In Colab\"/></a>"
      ]
    },
    {
      "cell_type": "markdown",
      "metadata": {
        "id": "NwNUQ0Pzo13X"
      },
      "source": [
        "# Importar Funciones y Datos"
      ]
    },
    {
      "cell_type": "markdown",
      "metadata": {
        "id": "dwjTitwsnFcl"
      },
      "source": [
        "**Primer Paso:**\n",
        "Agrego los datasets de OCEAN "
      ]
    },
    {
      "cell_type": "code",
      "metadata": {
        "id": "wuKmPbQKmiQJ"
      },
      "source": [
        "import matplotlib.pyplot as plt\n",
        "import numpy as np\n",
        "import pandas as pd\n",
        "import warnings\n",
        "\n",
        "warnings.filterwarnings('ignore')\n"
      ],
      "execution_count": 10,
      "outputs": []
    },
    {
      "cell_type": "code",
      "metadata": {
        "colab": {
          "base_uri": "https://localhost:8080/"
        },
        "id": "iK2mC09Du-81",
        "outputId": "8c91adfd-5f64-49f9-97c3-339153e930c3"
      },
      "source": [
        "from google.colab import drive\n",
        "drive.mount('/content/drive')"
      ],
      "execution_count": 5,
      "outputs": [
        {
          "output_type": "stream",
          "text": [
            "Mounted at /content/drive\n"
          ],
          "name": "stdout"
        }
      ]
    },
    {
      "cell_type": "code",
      "metadata": {
        "id": "aPvQAgadyCfl"
      },
      "source": [
        "# Dataset OCEAN\n",
        "filename = '/content/drive/My Drive/LaboDatos2021/ocean_safe.csv' \n",
        "\n",
        "# Cargamos de base solo aquellas columnas que nos interesa (útil para df grandes)\n",
        "columnas_ocean = ['1_extraversion', '1_agreeableness', '1_conscientiousness', '1_neuroticism', '1_openness', '2_edad', '2_genero', 'hash']\n",
        "df_ocean = pd.read_csv(filename, usecols = columnas_ocean)"
      ],
      "execution_count": 43,
      "outputs": []
    },
    {
      "cell_type": "code",
      "metadata": {
        "colab": {
          "base_uri": "https://localhost:8080/",
          "height": 204
        },
        "id": "At5LPkXTtQl9",
        "outputId": "39ab5d31-cb89-47de-cc7a-120b0ed59190"
      },
      "source": [
        "# Mostramos en pantalla el encabezado de df_ocean\n",
        "df_ocean.head()"
      ],
      "execution_count": 44,
      "outputs": [
        {
          "output_type": "execute_result",
          "data": {
            "text/html": [
              "<div>\n",
              "<style scoped>\n",
              "    .dataframe tbody tr th:only-of-type {\n",
              "        vertical-align: middle;\n",
              "    }\n",
              "\n",
              "    .dataframe tbody tr th {\n",
              "        vertical-align: top;\n",
              "    }\n",
              "\n",
              "    .dataframe thead th {\n",
              "        text-align: right;\n",
              "    }\n",
              "</style>\n",
              "<table border=\"1\" class=\"dataframe\">\n",
              "  <thead>\n",
              "    <tr style=\"text-align: right;\">\n",
              "      <th></th>\n",
              "      <th>1_extraversion</th>\n",
              "      <th>1_agreeableness</th>\n",
              "      <th>1_conscientiousness</th>\n",
              "      <th>1_neuroticism</th>\n",
              "      <th>1_openness</th>\n",
              "      <th>2_edad</th>\n",
              "      <th>2_genero</th>\n",
              "      <th>hash</th>\n",
              "    </tr>\n",
              "  </thead>\n",
              "  <tbody>\n",
              "    <tr>\n",
              "      <th>0</th>\n",
              "      <td>27</td>\n",
              "      <td>31</td>\n",
              "      <td>31</td>\n",
              "      <td>37</td>\n",
              "      <td>32</td>\n",
              "      <td>21</td>\n",
              "      <td>1</td>\n",
              "      <td>-423577603735016669</td>\n",
              "    </tr>\n",
              "    <tr>\n",
              "      <th>1</th>\n",
              "      <td>16</td>\n",
              "      <td>37</td>\n",
              "      <td>26</td>\n",
              "      <td>31</td>\n",
              "      <td>45</td>\n",
              "      <td>33</td>\n",
              "      <td>2</td>\n",
              "      <td>-464971106993132614</td>\n",
              "    </tr>\n",
              "    <tr>\n",
              "      <th>2</th>\n",
              "      <td>23</td>\n",
              "      <td>33</td>\n",
              "      <td>38</td>\n",
              "      <td>22</td>\n",
              "      <td>44</td>\n",
              "      <td>29</td>\n",
              "      <td>1</td>\n",
              "      <td>8850189905759099157</td>\n",
              "    </tr>\n",
              "    <tr>\n",
              "      <th>3</th>\n",
              "      <td>20</td>\n",
              "      <td>25</td>\n",
              "      <td>25</td>\n",
              "      <td>20</td>\n",
              "      <td>18</td>\n",
              "      <td>24</td>\n",
              "      <td>2</td>\n",
              "      <td>8502285657236737218</td>\n",
              "    </tr>\n",
              "    <tr>\n",
              "      <th>4</th>\n",
              "      <td>22</td>\n",
              "      <td>34</td>\n",
              "      <td>24</td>\n",
              "      <td>35</td>\n",
              "      <td>42</td>\n",
              "      <td>35</td>\n",
              "      <td>2</td>\n",
              "      <td>5668714742513791951</td>\n",
              "    </tr>\n",
              "  </tbody>\n",
              "</table>\n",
              "</div>"
            ],
            "text/plain": [
              "   1_extraversion  1_agreeableness  ...  2_genero                 hash\n",
              "0              27               31  ...         1  -423577603735016669\n",
              "1              16               37  ...         2  -464971106993132614\n",
              "2              23               33  ...         1  8850189905759099157\n",
              "3              20               25  ...         2  8502285657236737218\n",
              "4              22               34  ...         2  5668714742513791951\n",
              "\n",
              "[5 rows x 8 columns]"
            ]
          },
          "metadata": {
            "tags": []
          },
          "execution_count": 44
        }
      ]
    },
    {
      "cell_type": "markdown",
      "metadata": {
        "id": "u-DaW7Vp7XLM"
      },
      "source": [
        "Agrego los datasets de Coronadelicos"
      ]
    },
    {
      "cell_type": "code",
      "metadata": {
        "id": "WG5HUe11YSE3"
      },
      "source": [
        "# Coronadelicos\n",
        "filename = '/content/drive/My Drive/LaboDatos2021/coronadelicos_safe.csv' \n",
        "df_coronadelicos = pd.read_csv(filename)"
      ],
      "execution_count": 66,
      "outputs": []
    },
    {
      "cell_type": "markdown",
      "metadata": {
        "id": "SX8RJTr6pCxl"
      },
      "source": [
        "# Unión Bases de Datos"
      ]
    },
    {
      "cell_type": "markdown",
      "metadata": {
        "id": "Rh_zOZYyYT_X"
      },
      "source": [
        "Unirlos en un único dataframe usando la columna \"hash\" y descartando sujetos que no participaron de ambos experimentos."
      ]
    },
    {
      "cell_type": "code",
      "metadata": {
        "id": "SV7IE-_67jXs"
      },
      "source": [
        "# Interseccion de las bases con la columna \"hash\"\n",
        "df_combinado = pd.merge(df_coronadelicos, df_ocean, how='inner', on='hash')"
      ],
      "execution_count": 67,
      "outputs": []
    },
    {
      "cell_type": "code",
      "metadata": {
        "colab": {
          "base_uri": "https://localhost:8080/"
        },
        "id": "Db4MrhDnidm2",
        "outputId": "d64e3762-83ff-49ef-adda-3fc56e17f73c"
      },
      "source": [
        "print(df_combinado)"
      ],
      "execution_count": 70,
      "outputs": [
        {
          "output_type": "stream",
          "text": [
            "      0_religiosidad  0_frecuencia_practicas_religiosas  ...  2_edad  2_genero\n",
            "0                  0                                  5  ...      21         2\n",
            "1                  2                                  5  ...      41         2\n",
            "2                  0                                  5  ...      23         1\n",
            "3                  7                                  5  ...      31         1\n",
            "4                  9                                  5  ...      21         1\n",
            "...              ...                                ...  ...     ...       ...\n",
            "8231              15                                  5  ...      29         1\n",
            "8232              50                                  3  ...      19         1\n",
            "8233               0                                  5  ...      25         1\n",
            "8234               0                                  5  ...      28         2\n",
            "8235              33                                  5  ...      22         2\n",
            "\n",
            "[8236 rows x 144 columns]\n"
          ],
          "name": "stdout"
        }
      ]
    },
    {
      "cell_type": "markdown",
      "metadata": {
        "id": "w6bOKJEgpT7h"
      },
      "source": [
        "# Armado de 3 DataFrames"
      ]
    },
    {
      "cell_type": "markdown",
      "metadata": {
        "id": "5V5jTUMLngJe"
      },
      "source": [
        "Sujetos que al menos una vez consumieron marihuana."
      ]
    },
    {
      "cell_type": "code",
      "metadata": {
        "colab": {
          "base_uri": "https://localhost:8080/"
        },
        "id": "sux_Lyann4V9",
        "outputId": "bae0c5a0-eeb2-484e-9efe-a5db9417bd70"
      },
      "source": [
        "# Sujetos que reportaron haber consumido marihuana al menos una vez.\n",
        "suj_consumo_marih_f1 = df_combinado[(df_combinado['7_marihuana']!=-999)]\n",
        "print(f'El dataset de Sujetos que consumiron al menos una vez marihuana tiene: {suj_consumo_marih_f1.shape[0]} casos')"
      ],
      "execution_count": 72,
      "outputs": [
        {
          "output_type": "stream",
          "text": [
            "El dataset de Sujetos que consumiron al menos una vez marihuana tiene: 5182 casos\n"
          ],
          "name": "stdout"
        }
      ]
    },
    {
      "cell_type": "markdown",
      "metadata": {
        "id": "nAC0G7zmbmsF"
      },
      "source": [
        "Sujetos que nunca consumieron marihuana."
      ]
    },
    {
      "cell_type": "code",
      "metadata": {
        "colab": {
          "base_uri": "https://localhost:8080/"
        },
        "id": "Xeiu21s3bmIO",
        "outputId": "14e65c90-7426-4504-9b86-9c9e9d55e8e6"
      },
      "source": [
        "# Sujetos que reportaron nunca haber consumido marihuana.\n",
        "suj_sinconsumo_marih_f1 = df_combinado[(df_combinado['7_marihuana']==-999)]\n",
        "print(f'El dataset de Sujetos que reportaron nunca haber consumido marihuana: {suj_sinconsumo_marih_f1.shape[0]} casos')"
      ],
      "execution_count": 87,
      "outputs": [
        {
          "output_type": "stream",
          "text": [
            "El dataset de Sujetos que reportaron nunca haber consumido marihuana: 3054 casos\n"
          ],
          "name": "stdout"
        }
      ]
    },
    {
      "cell_type": "markdown",
      "metadata": {
        "id": "OgzgQgKpbr0l"
      },
      "source": [
        "Sujetos que reportaron haber consumido sedativos y/o antidepresivos o antipsicóticos."
      ]
    },
    {
      "cell_type": "code",
      "metadata": {
        "colab": {
          "base_uri": "https://localhost:8080/"
        },
        "id": "YAezmXyHbuq1",
        "outputId": "098ea628-dfeb-449c-845c-581e0461ccb1"
      },
      "source": [
        "suj_consumo_antidp = df_combinado.loc[(df_combinado['7_antidepresivos o antipsicoticos']!=-999)]\n",
        "print(f'El dataset de Sujetos que reportaron haber consumido antidepresivos o antipsicoticos: {suj_consumo_antidp.shape[0]} casos')"
      ],
      "execution_count": 88,
      "outputs": [
        {
          "output_type": "stream",
          "text": [
            "El dataset de Sujetos que reportaron haber consumido antidepresivos o antipsicoticos: 207 casos\n"
          ],
          "name": "stdout"
        }
      ]
    },
    {
      "cell_type": "markdown",
      "metadata": {
        "id": "XSNp7LAbnWnc"
      },
      "source": [
        "**Segundo Paso** \n",
        "Armar tres dataframes distintos basado en los siguientes criterios:\n"
      ]
    },
    {
      "cell_type": "markdown",
      "metadata": {
        "id": "p1XacvWepoW3"
      },
      "source": [
        "# Las 5 dimensiones de la personalidad."
      ]
    },
    {
      "cell_type": "markdown",
      "metadata": {
        "id": "_JZv_JARpyKO"
      },
      "source": [
        "Tercer paso: Armar nuevos dataframes que contengan columnas para las 5 dimensiones de la personalidad."
      ]
    },
    {
      "cell_type": "code",
      "metadata": {
        "id": "TMybwTjBp13u"
      },
      "source": [
        ""
      ],
      "execution_count": null,
      "outputs": []
    }
  ]
}