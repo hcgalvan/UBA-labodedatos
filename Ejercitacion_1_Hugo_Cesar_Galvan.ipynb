{
  "nbformat": 4,
  "nbformat_minor": 0,
  "metadata": {
    "colab": {
      "name": "Ejercitacion 1 Hugo Cesar Galvan.ipynb",
      "provenance": [],
      "authorship_tag": "ABX9TyPTVT3z4D3LIm8/+BdxgitC",
      "include_colab_link": true
    },
    "kernelspec": {
      "name": "python3",
      "display_name": "Python 3"
    },
    "language_info": {
      "name": "python"
    }
  },
  "cells": [
    {
      "cell_type": "markdown",
      "metadata": {
        "id": "view-in-github",
        "colab_type": "text"
      },
      "source": [
        "<a href=\"https://colab.research.google.com/github/hcgalvan/labodedatos/blob/main/Ejercitacion_1_Hugo_Cesar_Galvan.ipynb\" target=\"_parent\"><img src=\"https://colab.research.google.com/assets/colab-badge.svg\" alt=\"Open In Colab\"/></a>"
      ]
    },
    {
      "cell_type": "markdown",
      "metadata": {
        "id": "dwjTitwsnFcl"
      },
      "source": [
        "**Primer Paso:**\n",
        "Agrego los datasets de OCEAN y Coronadelicos, con los siguientes paths:"
      ]
    },
    {
      "cell_type": "code",
      "metadata": {
        "id": "wuKmPbQKmiQJ"
      },
      "source": [
        "# path OCEAN\n",
        "filename = '/content/drive/My Drive/LaboDatos2021/ocean_safe.csv'\n",
        "# path Coronadelicos\n",
        "filename = '/content/drive/My Drive/LaboDatos2021/coronadelicos_safe.csv'"
      ],
      "execution_count": 1,
      "outputs": []
    },
    {
      "cell_type": "markdown",
      "metadata": {
        "id": "XSNp7LAbnWnc"
      },
      "source": [
        "**Segundo Paso** \n",
        "Armar tres dataframes distintos basado en los siguientes criterios:\n",
        "\n",
        "Sujetos que reportaron haber consumido marihuana al menos una vez.\n",
        "Sujetos que nunca consumieron marihuana.\n",
        "Sujetos que reportaron haber consumido sedativos y/o antidepresivos o antipsicóticos."
      ]
    },
    {
      "cell_type": "code",
      "metadata": {
        "id": "sux_Lyann4V9"
      },
      "source": [
        ""
      ],
      "execution_count": null,
      "outputs": []
    }
  ]
}