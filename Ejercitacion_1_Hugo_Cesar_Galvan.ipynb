{
  "nbformat": 4,
  "nbformat_minor": 0,
  "metadata": {
    "colab": {
      "name": "Ejercitacion 1 Hugo Cesar Galvan.ipynb",
      "provenance": [],
      "collapsed_sections": [],
      "authorship_tag": "ABX9TyN/jHu/RZcCkqZzhrSJNOBw",
      "include_colab_link": true
    },
    "kernelspec": {
      "name": "python3",
      "display_name": "Python 3"
    },
    "language_info": {
      "name": "python"
    }
  },
  "cells": [
    {
      "cell_type": "markdown",
      "metadata": {
        "id": "view-in-github",
        "colab_type": "text"
      },
      "source": [
        "<a href=\"https://colab.research.google.com/github/hcgalvan/labodedatos/blob/main/Ejercitacion_1_Hugo_Cesar_Galvan.ipynb\" target=\"_parent\"><img src=\"https://colab.research.google.com/assets/colab-badge.svg\" alt=\"Open In Colab\"/></a>"
      ]
    },
    {
      "cell_type": "markdown",
      "metadata": {
        "id": "NwNUQ0Pzo13X"
      },
      "source": [
        "# Importar Funciones y Datos"
      ]
    },
    {
      "cell_type": "markdown",
      "metadata": {
        "id": "dwjTitwsnFcl"
      },
      "source": [
        "**Primer Paso:**\n",
        "Agrego los datasets de OCEAN "
      ]
    },
    {
      "cell_type": "code",
      "metadata": {
        "id": "wuKmPbQKmiQJ"
      },
      "source": [
        "# import matplotlib.pyplot as plt\n",
        "import numpy as np\n",
        "import pandas as pd\n",
        "import warnings\n",
        "\n",
        "import matplotlib.pylab as plt # Herramienta principal de visualización https://matplotlib.org/stable/contents.html\n",
        "import matplotlib.dates as mdates # Dentro de matplotlib, tenemos una herramienta para manejo de fechas \n",
        "import seaborn as sbn # Herramienta complementaria de visualización https://seaborn.pydata.org/\n",
        "\n",
        "\n",
        "warnings.filterwarnings('ignore')\n"
      ],
      "execution_count": 10,
      "outputs": []
    },
    {
      "cell_type": "code",
      "metadata": {
        "colab": {
          "base_uri": "https://localhost:8080/"
        },
        "id": "iK2mC09Du-81",
        "outputId": "8c91adfd-5f64-49f9-97c3-339153e930c3"
      },
      "source": [
        "from google.colab import drive\n",
        "drive.mount('/content/drive')"
      ],
      "execution_count": 5,
      "outputs": [
        {
          "output_type": "stream",
          "text": [
            "Mounted at /content/drive\n"
          ],
          "name": "stdout"
        }
      ]
    },
    {
      "cell_type": "code",
      "metadata": {
        "id": "aPvQAgadyCfl"
      },
      "source": [
        "# Dataset OCEAN\n",
        "filename = '/content/drive/My Drive/LaboDatos2021/ocean_safe.csv' \n",
        "\n",
        "# Cargamos de base solo aquellas columnas que nos interesa (útil para df grandes)\n",
        "columnas_ocean = ['1_extraversion', '1_agreeableness', '1_conscientiousness', '1_neuroticism', '1_openness', '2_edad', '2_genero', 'hash']\n",
        "df_ocean = pd.read_csv(filename, usecols = columnas_ocean)"
      ],
      "execution_count": 43,
      "outputs": []
    },
    {
      "cell_type": "code",
      "metadata": {
        "colab": {
          "base_uri": "https://localhost:8080/",
          "height": 204
        },
        "id": "At5LPkXTtQl9",
        "outputId": "39ab5d31-cb89-47de-cc7a-120b0ed59190"
      },
      "source": [
        "# Mostramos en pantalla el encabezado de df_ocean\n",
        "df_ocean.head()"
      ],
      "execution_count": 44,
      "outputs": [
        {
          "output_type": "execute_result",
          "data": {
            "text/html": [
              "<div>\n",
              "<style scoped>\n",
              "    .dataframe tbody tr th:only-of-type {\n",
              "        vertical-align: middle;\n",
              "    }\n",
              "\n",
              "    .dataframe tbody tr th {\n",
              "        vertical-align: top;\n",
              "    }\n",
              "\n",
              "    .dataframe thead th {\n",
              "        text-align: right;\n",
              "    }\n",
              "</style>\n",
              "<table border=\"1\" class=\"dataframe\">\n",
              "  <thead>\n",
              "    <tr style=\"text-align: right;\">\n",
              "      <th></th>\n",
              "      <th>1_extraversion</th>\n",
              "      <th>1_agreeableness</th>\n",
              "      <th>1_conscientiousness</th>\n",
              "      <th>1_neuroticism</th>\n",
              "      <th>1_openness</th>\n",
              "      <th>2_edad</th>\n",
              "      <th>2_genero</th>\n",
              "      <th>hash</th>\n",
              "    </tr>\n",
              "  </thead>\n",
              "  <tbody>\n",
              "    <tr>\n",
              "      <th>0</th>\n",
              "      <td>27</td>\n",
              "      <td>31</td>\n",
              "      <td>31</td>\n",
              "      <td>37</td>\n",
              "      <td>32</td>\n",
              "      <td>21</td>\n",
              "      <td>1</td>\n",
              "      <td>-423577603735016669</td>\n",
              "    </tr>\n",
              "    <tr>\n",
              "      <th>1</th>\n",
              "      <td>16</td>\n",
              "      <td>37</td>\n",
              "      <td>26</td>\n",
              "      <td>31</td>\n",
              "      <td>45</td>\n",
              "      <td>33</td>\n",
              "      <td>2</td>\n",
              "      <td>-464971106993132614</td>\n",
              "    </tr>\n",
              "    <tr>\n",
              "      <th>2</th>\n",
              "      <td>23</td>\n",
              "      <td>33</td>\n",
              "      <td>38</td>\n",
              "      <td>22</td>\n",
              "      <td>44</td>\n",
              "      <td>29</td>\n",
              "      <td>1</td>\n",
              "      <td>8850189905759099157</td>\n",
              "    </tr>\n",
              "    <tr>\n",
              "      <th>3</th>\n",
              "      <td>20</td>\n",
              "      <td>25</td>\n",
              "      <td>25</td>\n",
              "      <td>20</td>\n",
              "      <td>18</td>\n",
              "      <td>24</td>\n",
              "      <td>2</td>\n",
              "      <td>8502285657236737218</td>\n",
              "    </tr>\n",
              "    <tr>\n",
              "      <th>4</th>\n",
              "      <td>22</td>\n",
              "      <td>34</td>\n",
              "      <td>24</td>\n",
              "      <td>35</td>\n",
              "      <td>42</td>\n",
              "      <td>35</td>\n",
              "      <td>2</td>\n",
              "      <td>5668714742513791951</td>\n",
              "    </tr>\n",
              "  </tbody>\n",
              "</table>\n",
              "</div>"
            ],
            "text/plain": [
              "   1_extraversion  1_agreeableness  ...  2_genero                 hash\n",
              "0              27               31  ...         1  -423577603735016669\n",
              "1              16               37  ...         2  -464971106993132614\n",
              "2              23               33  ...         1  8850189905759099157\n",
              "3              20               25  ...         2  8502285657236737218\n",
              "4              22               34  ...         2  5668714742513791951\n",
              "\n",
              "[5 rows x 8 columns]"
            ]
          },
          "metadata": {
            "tags": []
          },
          "execution_count": 44
        }
      ]
    },
    {
      "cell_type": "markdown",
      "metadata": {
        "id": "u-DaW7Vp7XLM"
      },
      "source": [
        "Agrego los datasets de Coronadelicos"
      ]
    },
    {
      "cell_type": "code",
      "metadata": {
        "id": "WG5HUe11YSE3"
      },
      "source": [
        "# Coronadelicos\n",
        "filename = '/content/drive/My Drive/LaboDatos2021/coronadelicos_safe.csv' \n",
        "df_coronadelicos = pd.read_csv(filename)"
      ],
      "execution_count": 66,
      "outputs": []
    },
    {
      "cell_type": "markdown",
      "metadata": {
        "id": "SX8RJTr6pCxl"
      },
      "source": [
        "# Unión Bases de Datos"
      ]
    },
    {
      "cell_type": "markdown",
      "metadata": {
        "id": "Rh_zOZYyYT_X"
      },
      "source": [
        "Unirlos en un único dataframe usando la columna \"hash\" y descartando sujetos que no participaron de ambos experimentos."
      ]
    },
    {
      "cell_type": "code",
      "metadata": {
        "id": "SV7IE-_67jXs"
      },
      "source": [
        "# Interseccion de las bases con la columna \"hash\"\n",
        "df_combinado = pd.merge(df_coronadelicos, df_ocean, how='inner', on='hash')"
      ],
      "execution_count": 67,
      "outputs": []
    },
    {
      "cell_type": "code",
      "metadata": {
        "colab": {
          "base_uri": "https://localhost:8080/"
        },
        "id": "Db4MrhDnidm2",
        "outputId": "0f29a764-8e00-494a-db5b-9b06ffa506a1"
      },
      "source": [
        "print(df_combinado)"
      ],
      "execution_count": 97,
      "outputs": [
        {
          "output_type": "stream",
          "text": [
            "      0_religiosidad  0_frecuencia_practicas_religiosas  ...  2_edad  2_genero\n",
            "0                  0                                  5  ...      21         2\n",
            "1                  2                                  5  ...      41         2\n",
            "2                  0                                  5  ...      23         1\n",
            "3                  7                                  5  ...      31         1\n",
            "7                  0                                  5  ...      55         2\n",
            "...              ...                                ...  ...     ...       ...\n",
            "8225               0                                  5  ...      33         1\n",
            "8226              34                                  5  ...      18         2\n",
            "8227              18                                  5  ...      26         1\n",
            "8231              15                                  5  ...      29         1\n",
            "8232              50                                  3  ...      19         1\n",
            "\n",
            "[3054 rows x 144 columns]\n"
          ],
          "name": "stdout"
        }
      ]
    },
    {
      "cell_type": "markdown",
      "metadata": {
        "id": "w6bOKJEgpT7h"
      },
      "source": [
        "# Armado de 3 DataFrames"
      ]
    },
    {
      "cell_type": "markdown",
      "metadata": {
        "id": "5V5jTUMLngJe"
      },
      "source": [
        "Sujetos que al menos una vez consumieron marihuana."
      ]
    },
    {
      "cell_type": "code",
      "metadata": {
        "colab": {
          "base_uri": "https://localhost:8080/"
        },
        "id": "sux_Lyann4V9",
        "outputId": "4b1bc300-8ebe-4dad-c03e-e118c1a72e14"
      },
      "source": [
        "# Sujetos que reportaron haber consumido marihuana al menos una vez.\n",
        "suj_consumo_marih = df_combinado[(df_combinado['7_marihuana']!=-999)]\n",
        "print(f'El dataset de Sujetos que consumiron al menos una vez marihuana tiene: {suj_consumo_marih.shape[0]} casos')\n",
        "print (suj_consumo_marih['1_agreeableness'])"
      ],
      "execution_count": 182,
      "outputs": [
        {
          "output_type": "stream",
          "text": [
            "El dataset de Sujetos que consumiron al menos una vez marihuana tiene: 0 casos\n",
            "Series([], Name: 1_agreeableness, dtype: int64)\n"
          ],
          "name": "stdout"
        }
      ]
    },
    {
      "cell_type": "markdown",
      "metadata": {
        "id": "nAC0G7zmbmsF"
      },
      "source": [
        "Sujetos que nunca consumieron marihuana."
      ]
    },
    {
      "cell_type": "code",
      "metadata": {
        "colab": {
          "base_uri": "https://localhost:8080/"
        },
        "id": "Xeiu21s3bmIO",
        "outputId": "ef863957-ecf3-494f-ec53-0b4836f10cf9"
      },
      "source": [
        "# Sujetos que reportaron nunca haber consumido marihuana.\n",
        "suj_sinconsumo_marih = df_combinado[(df_combinado['7_marihuana']==-999)]\n",
        "print(f'El dataset de Sujetos que reportaron nunca haber consumido marihuana: {suj_sinconsumo_marih.shape[0]} casos')"
      ],
      "execution_count": 124,
      "outputs": [
        {
          "output_type": "stream",
          "text": [
            "El dataset de Sujetos que reportaron nunca haber consumido marihuana: 3054 casos\n"
          ],
          "name": "stdout"
        }
      ]
    },
    {
      "cell_type": "markdown",
      "metadata": {
        "id": "OgzgQgKpbr0l"
      },
      "source": [
        "Sujetos que reportaron haber consumido sedativos y/o antidepresivos o antipsicóticos."
      ]
    },
    {
      "cell_type": "code",
      "metadata": {
        "colab": {
          "base_uri": "https://localhost:8080/"
        },
        "id": "YAezmXyHbuq1",
        "outputId": "098ea628-dfeb-449c-845c-581e0461ccb1"
      },
      "source": [
        "suj_consumo_antidp = df_combinado.loc[(df_combinado['7_antidepresivos o antipsicoticos']!=-999)]\n",
        "print(f'El dataset de Sujetos que reportaron haber consumido antidepresivos o antipsicoticos: {suj_consumo_antidp.shape[0]} casos')\n"
      ],
      "execution_count": 88,
      "outputs": [
        {
          "output_type": "stream",
          "text": [
            "El dataset de Sujetos que reportaron haber consumido antidepresivos o antipsicoticos: 207 casos\n"
          ],
          "name": "stdout"
        }
      ]
    },
    {
      "cell_type": "code",
      "metadata": {
        "colab": {
          "base_uri": "https://localhost:8080/"
        },
        "id": "I4_w5J3lB4on",
        "outputId": "c1d4a9cb-1ef4-453d-9d8c-0e2db3161df6"
      },
      "source": [
        "print (suj_consumo_antidp['1_agreeableness'])"
      ],
      "execution_count": 112,
      "outputs": [
        {
          "output_type": "stream",
          "text": [
            "71      36\n",
            "130     29\n",
            "138     36\n",
            "156     30\n",
            "232     30\n",
            "        ..\n",
            "8037    29\n",
            "8087    34\n",
            "8123    41\n",
            "8158    33\n",
            "8219    27\n",
            "Name: 1_agreeableness, Length: 207, dtype: int64\n"
          ],
          "name": "stdout"
        }
      ]
    },
    {
      "cell_type": "markdown",
      "metadata": {
        "id": "XSNp7LAbnWnc"
      },
      "source": [
        "**Segundo Paso** \n",
        "Armar tres dataframes distintos basado en los siguientes criterios:\n"
      ]
    },
    {
      "cell_type": "markdown",
      "metadata": {
        "id": "p1XacvWepoW3"
      },
      "source": [
        "# Las 5 dimensiones de la personalidad."
      ]
    },
    {
      "cell_type": "markdown",
      "metadata": {
        "id": "_JZv_JARpyKO"
      },
      "source": [
        "Tercer paso: Armar nuevos dataframes que contengan columnas para las 5 dimensiones de la personalidad."
      ]
    },
    {
      "cell_type": "code",
      "metadata": {
        "colab": {
          "base_uri": "https://localhost:8080/"
        },
        "id": "6fDW8i-vrX2W",
        "outputId": "034c26d4-9365-4190-fad8-6ba311d66d2c"
      },
      "source": [
        "df_combinado.info()"
      ],
      "execution_count": 92,
      "outputs": [
        {
          "output_type": "stream",
          "text": [
            "<class 'pandas.core.frame.DataFrame'>\n",
            "Int64Index: 3054 entries, 0 to 8232\n",
            "Columns: 144 entries, 0_religiosidad to 2_genero\n",
            "dtypes: int64(138), object(6)\n",
            "memory usage: 3.5+ MB\n"
          ],
          "name": "stdout"
        }
      ]
    },
    {
      "cell_type": "code",
      "metadata": {
        "colab": {
          "base_uri": "https://localhost:8080/"
        },
        "id": "TMybwTjBp13u",
        "outputId": "3f14dc29-9228-4321-d53a-9770466694f8"
      },
      "source": [
        "columnas = ['1_extraversion', '1_agreeableness', '1_conscientiousness', '1_neuroticism', '1_openness']\n",
        "df_Dim = df_combinado[columnas].copy()\n",
        "df_Dim.info()"
      ],
      "execution_count": 103,
      "outputs": [
        {
          "output_type": "stream",
          "text": [
            "<class 'pandas.core.frame.DataFrame'>\n",
            "Int64Index: 3054 entries, 0 to 8232\n",
            "Data columns (total 5 columns):\n",
            " #   Column               Non-Null Count  Dtype\n",
            "---  ------               --------------  -----\n",
            " 0   1_extraversion       3054 non-null   int64\n",
            " 1   1_agreeableness      3054 non-null   int64\n",
            " 2   1_conscientiousness  3054 non-null   int64\n",
            " 3   1_neuroticism        3054 non-null   int64\n",
            " 4   1_openness           3054 non-null   int64\n",
            "dtypes: int64(5)\n",
            "memory usage: 223.2 KB\n"
          ],
          "name": "stdout"
        }
      ]
    },
    {
      "cell_type": "markdown",
      "metadata": {
        "id": "ya9G-4ZavGzT"
      },
      "source": [
        "# Armar un radar plot donde las 5 dimensiones"
      ]
    },
    {
      "cell_type": "markdown",
      "metadata": {
        "id": "_KgJ-o2NvOF3"
      },
      "source": [
        "Armar un radar plot con datos de las dimensiones"
      ]
    },
    {
      "cell_type": "code",
      "metadata": {
        "colab": {
          "base_uri": "https://localhost:8080/"
        },
        "id": "HWFhq9_sFtdG",
        "outputId": "4bf181fa-fe81-4d7c-9c75-f3c8d9d82822"
      },
      "source": [
        "columnas = ['1_extraversion', '1_agreeableness', '1_conscientiousness', '1_neuroticism', '1_openness']\n",
        "dimensiones = suj_consumo_antidp[columnas]\n",
        "cantidad = len ( suj_consumo_antidp )\n",
        "extraversion = 0\n",
        "agreeableness = 0\n",
        "conscientiousness = 0\n",
        "neuroticism = 0\n",
        "openness = 0\n",
        "subtotal = 0\n",
        "for largo in range(cantidad):\n",
        "  for dimensiones in range(largo):\n",
        "    if dimensiones == 1:\n",
        "      extraversion = extraversion + dimensiones\n",
        "    if dimensiones == 2:\n",
        "      agreeableness = agreeableness + dimensiones\n",
        "    if dimensiones == 3:\n",
        "      conscientiousness = conscientiousness + dimensiones\n",
        "    if dimensiones == 4:  \n",
        "      neuroticism = neuroticism + dimensiones   \n",
        "    if dimensiones == 5:  \n",
        "      neuroticism = openness + openness\n",
        "print ( cantidad, extraversion , agreeableness, conscientiousness, neuroticism, openness )      \n",
        "extraversion = extraversion /  cantidad\n",
        "agreeableness = agreeableness / cantidad\n",
        "conscientiousness = conscientiousness / cantidad\n",
        "neuroticism = neuroticism / cantidad\n",
        "openness = openness / cantidad\n",
        "\n",
        "print ( extraversion , agreeableness, conscientiousness, neuroticism, openness )    "
      ],
      "execution_count": 181,
      "outputs": [
        {
          "output_type": "stream",
          "text": [
            "207 205 408 609 0 0\n",
            "0.9903381642512077 1.9710144927536233 2.9420289855072466 0.0 0.0\n"
          ],
          "name": "stdout"
        }
      ]
    },
    {
      "cell_type": "code",
      "metadata": {
        "colab": {
          "base_uri": "https://localhost:8080/"
        },
        "id": "SQFTFJv1G6gH",
        "outputId": "18d67df9-6e7f-4696-91b7-10d0c32110fb"
      },
      "source": [
        "columnas = ['1_extraversion', '1_agreeableness', '1_conscientiousness', '1_neuroticism', '1_openness']\n",
        "a = suj_sinconsumo_marih[columnas]\n",
        "df_2 = suj_sinconsumo_marih.fillna(a.sum)\n",
        "print(df_2[columnas])"
      ],
      "execution_count": 132,
      "outputs": [
        {
          "output_type": "stream",
          "text": [
            "      1_extraversion  1_agreeableness  ...  1_neuroticism  1_openness\n",
            "0                 21               32  ...             29          45\n",
            "1                 17               36  ...             20          44\n",
            "2                 24               30  ...             25          31\n",
            "3                 35               35  ...             26          33\n",
            "7                 29               30  ...             27          50\n",
            "...              ...              ...  ...            ...         ...\n",
            "8225              14               29  ...             38          40\n",
            "8226              17               25  ...             34          22\n",
            "8227              24               25  ...             35          29\n",
            "8231              32               32  ...             31          45\n",
            "8232              29               27  ...             35          40\n",
            "\n",
            "[3054 rows x 5 columns]\n"
          ],
          "name": "stdout"
        }
      ]
    },
    {
      "cell_type": "code",
      "metadata": {
        "colab": {
          "base_uri": "https://localhost:8080/"
        },
        "id": "QqwcX4_TFPzn",
        "outputId": "c0b66970-e770-4a66-9cca-445aacc430d9"
      },
      "source": [
        "columnas = ['1_extraversion', '1_agreeableness', '1_conscientiousness', '1_neuroticism', '1_openness']\n",
        "a = suj_sinconsumo_marih[columnas]\n",
        "df_2 = suj_sinconsumo_marih.fillna(a.mean()) \n",
        "print(df_2[columnas])\n",
        "\n"
      ],
      "execution_count": 125,
      "outputs": [
        {
          "output_type": "stream",
          "text": [
            "      1_extraversion  1_agreeableness  ...  1_neuroticism  1_openness\n",
            "0                 21               32  ...             29          45\n",
            "1                 17               36  ...             20          44\n",
            "2                 24               30  ...             25          31\n",
            "3                 35               35  ...             26          33\n",
            "7                 29               30  ...             27          50\n",
            "...              ...              ...  ...            ...         ...\n",
            "8225              14               29  ...             38          40\n",
            "8226              17               25  ...             34          22\n",
            "8227              24               25  ...             35          29\n",
            "8231              32               32  ...             31          45\n",
            "8232              29               27  ...             35          40\n",
            "\n",
            "[3054 rows x 5 columns]\n"
          ],
          "name": "stdout"
        }
      ]
    },
    {
      "cell_type": "code",
      "metadata": {
        "colab": {
          "base_uri": "https://localhost:8080/"
        },
        "id": "x1S5UQblCUQe",
        "outputId": "b17183f3-cf2f-4275-da14-68586b191647"
      },
      "source": [
        "columnas = ['1_extraversion', '1_agreeableness', '1_conscientiousness', '1_neuroticism', '1_openness']\n",
        "a = suj_consumo_antidp[columnas]\n",
        "df_3 = suj_consumo_antidp.fillna(a.mean())\n",
        "print(df_3[columnas])"
      ],
      "execution_count": 122,
      "outputs": [
        {
          "output_type": "stream",
          "text": [
            "      1_extraversion  1_agreeableness  ...  1_neuroticism  1_openness\n",
            "71                39               36  ...             26          38\n",
            "130               24               29  ...             32          44\n",
            "138               27               36  ...             33          33\n",
            "156               29               30  ...             24          36\n",
            "232               23               30  ...             23          37\n",
            "...              ...              ...  ...            ...         ...\n",
            "8037              25               29  ...             20          41\n",
            "8087              23               34  ...             25          40\n",
            "8123              36               41  ...             26          35\n",
            "8158              13               33  ...             27          40\n",
            "8219              20               27  ...             24          25\n",
            "\n",
            "[207 rows x 5 columns]\n"
          ],
          "name": "stdout"
        }
      ]
    },
    {
      "cell_type": "code",
      "metadata": {
        "id": "n7GQ3kdFwSxG"
      },
      "source": [
        "a = df_Dim['1_extraversion']\n",
        "b = df_Dim['1_agreeableness']\n",
        "c = df_Dim['1_conscientiousness']\n",
        "d = df_Dim['1_neuroticism']\n",
        "e = df_Dim['1_openness']\n",
        "df = df_Dim.fillna(a.mean())\n",
        "df = \n",
        "suj_consumo_marih\n"
      ],
      "execution_count": null,
      "outputs": []
    },
    {
      "cell_type": "code",
      "metadata": {
        "id": "D-vvdAQN7qcH"
      },
      "source": [
        "dic_dimensiones = {1 : '1_extraversion', 2 : '1_agreeableness', 3 : '1_conscientiousness', 4 : '1_neuroticism', 5 : '1_openness'} # Esto lo saco de uno de los diccionarios que indican qué significa cada número\n",
        "dimensiones = suj_consumo_marih['7_marihuana'].value_counts()\n",
        "\n",
        "fig, axs = plt.subplots(nrows = 1, ncols = 2, figsize = (18, 6))\n",
        "axs[0].grid('on', linestyle = 'dashed', alpha = 0.5)\n",
        "axs[0].set_title('Dimensiones de lxs Participantes')\n",
        "axs[0].set_ylabel('Fracción')\n",
        "axs[0].bar(x = [i for i in range(len(dimensiones))], # Definimos la ubicación de las barras a lo largo del eje horizontal\n",
        "           height = dimensiones.values  / dimensiones.values.sum(), # Definimos la altura de las barras\n",
        "           color = plt.get_cmap('Set2').colors\n",
        "           )\n",
        "axs[0].set_xticks([i for i in range(len(dimensiones))])\n",
        "axs[0].set_xticklabels([dic_dimensiones[d][:10] for g in dimensiones.keys()],\n",
        "                       rotation = 90\n",
        "                       )\n",
        "axs[0].set_yscale('log')\n",
        "\n",
        "axs[0].tick_params(axis='both', which='major', labelsize = 12)\n",
        "\n",
        "axs[1].pie(dimensiones.values / dimensiones.values.sum(),\n",
        "           colors = plt.get_cmap('Set2').colors)\n",
        "axs[1].legend([dic_dimensiones[g][:10] for g in dimensiones.keys()], loc = (-0.12,-0.15))\n",
        "\n",
        "\n",
        "plt.show()"
      ],
      "execution_count": null,
      "outputs": []
    },
    {
      "cell_type": "code",
      "metadata": {
        "id": "boGiuO_K6S64"
      },
      "source": [
        "dic_dimensiones = {1 : '1_extraversion', 2 : '1_agreeableness', 3 : '1_conscientiousness', 4 : '1_neuroticism', 5 : '1_openness'} # Esto lo saco de uno de los diccionarios que indican qué significa cada número\n",
        "dimensiones = suj_consumo_marih['0_dimensiones'].value_counts()\n",
        "\n",
        "genero_segun_edad = d_1.groupby([pd.qcut(d_1['0_edad'], q = 4),\n",
        "                                '0_genero']).hash.count().unstack(1).rename({i : dic_generos[i][:10] for i in range(1,7)},\n",
        "                                                                            axis = 1).apply(lambda x: x / x.sum(), axis = 0) # De esta forma, agrupamos por cuartiles de edad y por género"
      ],
      "execution_count": null,
      "outputs": []
    },
    {
      "cell_type": "code",
      "metadata": {
        "id": "KjiunWSWvdO1"
      },
      "source": [
        "def radar_plot(df, title = '',):\n",
        "    categories = df.columns\n",
        "    N = len(categories)\n",
        "    # What will be the angle of each axis in the plot? (we divide the plot / number of variable)\n",
        "    angles = [n / float(N) * 2 * np.pi for n in range(N)]\n",
        "    angles += angles[:1]\n",
        "     \n",
        "    # Initialise the spider plot\n",
        "    fig, ax = plt.subplots(figsize = (6,6), subplot_kw = {'projection': 'polar'})\n",
        "     \n",
        "    # If you want the first axis to be on top:\n",
        "    ax.set_theta_offset(np.pi / 2)\n",
        "    ax.set_theta_direction(-1)\n",
        "     \n",
        "    # Draw one axe per variable + add labels labels yet\n",
        "    ax.set_xticks(angles[:-1])\n",
        "    ax.set_xticklabels(categories,\n",
        "                       fontsize = 12)\n",
        "     \n",
        "    # Draw ylabels\n",
        "    ax.set_rlabel_position(0)\n",
        "    ax.set_yticks([0.1,0.2,0.3,0.4,0.5,0.6,0.7,0.8,0.9,1])\n",
        "    ax.set_yticklabels([\"0.1\",\"0.2\",\"0.3\",\"0.4\",\"0.5\",\"0.6\", \"0.7\", \"0.8\", \"0.9\", \"1\"],\n",
        "                       color = \"darkgrey\",\n",
        "                       size = 7)\n",
        "    ax.set_ylim(0,1)\n",
        "    \n",
        "    # ------- PART 2: Add plots\n",
        "    \n",
        "    # Plot each individual = each line of the data\n",
        "    \n",
        "    for row in df.iloc:\n",
        "            values = row.values.flatten().tolist()\n",
        "            values += values[:1]\n",
        "            ax.plot(angles, values, linewidth=1.5, linestyle = 'solid', label = row.name)\n",
        "            ax.fill(angles, values, 'b', alpha=0.1)\n",
        "    # Add legend\n",
        "    ax.legend(loc=(-0.2,-0.3),fontsize=12)\n",
        "    ax.set_title(title, position=(.5, 1.2),fontsize=15,)"
      ],
      "execution_count": 110,
      "outputs": []
    }
  ]
}