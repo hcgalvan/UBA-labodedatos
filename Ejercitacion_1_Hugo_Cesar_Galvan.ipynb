{
  "nbformat": 4,
  "nbformat_minor": 0,
  "metadata": {
    "colab": {
      "name": "Ejercitacion 1 Hugo Cesar Galvan.ipynb",
      "provenance": [],
      "collapsed_sections": [],
      "toc_visible": true,
      "authorship_tag": "ABX9TyM37nPCnezofvFcMsOEGtLO",
      "include_colab_link": true
    },
    "kernelspec": {
      "name": "python3",
      "display_name": "Python 3"
    },
    "language_info": {
      "name": "python"
    }
  },
  "cells": [
    {
      "cell_type": "markdown",
      "metadata": {
        "id": "view-in-github",
        "colab_type": "text"
      },
      "source": [
        "<a href=\"https://colab.research.google.com/github/hcgalvan/labodedatos/blob/main/Ejercitacion_1_Hugo_Cesar_Galvan.ipynb\" target=\"_parent\"><img src=\"https://colab.research.google.com/assets/colab-badge.svg\" alt=\"Open In Colab\"/></a>"
      ]
    },
    {
      "cell_type": "markdown",
      "metadata": {
        "id": "NwNUQ0Pzo13X"
      },
      "source": [
        "# Importar Funciones y Datos"
      ]
    },
    {
      "cell_type": "markdown",
      "metadata": {
        "id": "dwjTitwsnFcl"
      },
      "source": [
        "**Primer Paso:**\n",
        "Agrego los datasets de OCEAN "
      ]
    },
    {
      "cell_type": "code",
      "metadata": {
        "id": "wuKmPbQKmiQJ"
      },
      "source": [
        "# import matplotlib.pyplot as plt\n",
        "import numpy as np\n",
        "import pandas as pd\n",
        "import warnings\n",
        "\n",
        "import matplotlib.pylab as plt # Herramienta principal de visualización https://matplotlib.org/stable/contents.html\n",
        "import matplotlib.dates as mdates # Dentro de matplotlib, tenemos una herramienta para manejo de fechas \n",
        "import seaborn as sbn # Herramienta complementaria de visualización https://seaborn.pydata.org/\n",
        "\n",
        "from sklearn.preprocessing import MinMaxScaler\n",
        "\n",
        "from ipywidgets import interact, interactive, fixed, interact_manual, interactive_output\n",
        "import ipywidgets as widgets # Podemos ganar interactividad en la misma notebook https://ipywidgets.readthedocs.io/en/latest/\n",
        "\n",
        "warnings.filterwarnings('ignore')\n"
      ],
      "execution_count": null,
      "outputs": []
    },
    {
      "cell_type": "code",
      "metadata": {
        "colab": {
          "base_uri": "https://localhost:8080/"
        },
        "id": "iK2mC09Du-81",
        "outputId": "b54a7573-0051-4def-d639-7699b5f21fc1"
      },
      "source": [
        "from google.colab import drive\n",
        "drive.mount('/content/drive')"
      ],
      "execution_count": null,
      "outputs": [
        {
          "output_type": "stream",
          "text": [
            "Mounted at /content/drive\n"
          ],
          "name": "stdout"
        }
      ]
    },
    {
      "cell_type": "code",
      "metadata": {
        "id": "aPvQAgadyCfl"
      },
      "source": [
        "# Dataset OCEAN\n",
        "filename = '/content/drive/My Drive/LaboDatos2021/ocean_safe.csv' \n",
        "\n",
        "# Cargamos de base solo aquellas columnas que nos interesa (útil para df grandes)\n",
        "columnas_ocean = ['1_extraversion', '1_agreeableness', '1_conscientiousness', '1_neuroticism', '1_openness', '2_edad', '2_genero', 'hash']\n",
        "df_ocean = pd.read_csv(filename, usecols = columnas_ocean)"
      ],
      "execution_count": null,
      "outputs": []
    },
    {
      "cell_type": "code",
      "metadata": {
        "id": "At5LPkXTtQl9",
        "colab": {
          "base_uri": "https://localhost:8080/",
          "height": 197
        },
        "outputId": "2e30eb2e-9099-4b3b-b0b6-28640001925a"
      },
      "source": [
        "# Mostramos en pantalla el encabezado de df_ocean\n",
        "df_ocean.head()"
      ],
      "execution_count": null,
      "outputs": [
        {
          "output_type": "execute_result",
          "data": {
            "text/html": [
              "<div>\n",
              "<style scoped>\n",
              "    .dataframe tbody tr th:only-of-type {\n",
              "        vertical-align: middle;\n",
              "    }\n",
              "\n",
              "    .dataframe tbody tr th {\n",
              "        vertical-align: top;\n",
              "    }\n",
              "\n",
              "    .dataframe thead th {\n",
              "        text-align: right;\n",
              "    }\n",
              "</style>\n",
              "<table border=\"1\" class=\"dataframe\">\n",
              "  <thead>\n",
              "    <tr style=\"text-align: right;\">\n",
              "      <th></th>\n",
              "      <th>1_extraversion</th>\n",
              "      <th>1_agreeableness</th>\n",
              "      <th>1_conscientiousness</th>\n",
              "      <th>1_neuroticism</th>\n",
              "      <th>1_openness</th>\n",
              "      <th>2_edad</th>\n",
              "      <th>2_genero</th>\n",
              "      <th>hash</th>\n",
              "    </tr>\n",
              "  </thead>\n",
              "  <tbody>\n",
              "    <tr>\n",
              "      <th>0</th>\n",
              "      <td>27</td>\n",
              "      <td>31</td>\n",
              "      <td>31</td>\n",
              "      <td>37</td>\n",
              "      <td>32</td>\n",
              "      <td>21</td>\n",
              "      <td>1</td>\n",
              "      <td>-423577603735016669</td>\n",
              "    </tr>\n",
              "    <tr>\n",
              "      <th>1</th>\n",
              "      <td>16</td>\n",
              "      <td>37</td>\n",
              "      <td>26</td>\n",
              "      <td>31</td>\n",
              "      <td>45</td>\n",
              "      <td>33</td>\n",
              "      <td>2</td>\n",
              "      <td>-464971106993132614</td>\n",
              "    </tr>\n",
              "    <tr>\n",
              "      <th>2</th>\n",
              "      <td>23</td>\n",
              "      <td>33</td>\n",
              "      <td>38</td>\n",
              "      <td>22</td>\n",
              "      <td>44</td>\n",
              "      <td>29</td>\n",
              "      <td>1</td>\n",
              "      <td>8850189905759099157</td>\n",
              "    </tr>\n",
              "    <tr>\n",
              "      <th>3</th>\n",
              "      <td>20</td>\n",
              "      <td>25</td>\n",
              "      <td>25</td>\n",
              "      <td>20</td>\n",
              "      <td>18</td>\n",
              "      <td>24</td>\n",
              "      <td>2</td>\n",
              "      <td>8502285657236737218</td>\n",
              "    </tr>\n",
              "    <tr>\n",
              "      <th>4</th>\n",
              "      <td>22</td>\n",
              "      <td>34</td>\n",
              "      <td>24</td>\n",
              "      <td>35</td>\n",
              "      <td>42</td>\n",
              "      <td>35</td>\n",
              "      <td>2</td>\n",
              "      <td>5668714742513791951</td>\n",
              "    </tr>\n",
              "  </tbody>\n",
              "</table>\n",
              "</div>"
            ],
            "text/plain": [
              "   1_extraversion  1_agreeableness  ...  2_genero                 hash\n",
              "0              27               31  ...         1  -423577603735016669\n",
              "1              16               37  ...         2  -464971106993132614\n",
              "2              23               33  ...         1  8850189905759099157\n",
              "3              20               25  ...         2  8502285657236737218\n",
              "4              22               34  ...         2  5668714742513791951\n",
              "\n",
              "[5 rows x 8 columns]"
            ]
          },
          "metadata": {
            "tags": []
          },
          "execution_count": 4
        }
      ]
    },
    {
      "cell_type": "markdown",
      "metadata": {
        "id": "u-DaW7Vp7XLM"
      },
      "source": [
        "Agrego los datasets de Coronadelicos"
      ]
    },
    {
      "cell_type": "code",
      "metadata": {
        "id": "WG5HUe11YSE3"
      },
      "source": [
        "# Coronadelicos\n",
        "filename = '/content/drive/My Drive/LaboDatos2021/coronadelicos_safe.csv' \n",
        "df_coronadelicos = pd.read_csv(filename)"
      ],
      "execution_count": null,
      "outputs": []
    },
    {
      "cell_type": "code",
      "metadata": {
        "id": "EF7281ntv2qb",
        "colab": {
          "base_uri": "https://localhost:8080/",
          "height": 346
        },
        "outputId": "91c7c352-8f69-4bfd-b725-2e1a0fb5d7f0"
      },
      "source": [
        "# Mostramos en pantalla el encabezado de df_ocean\n",
        "df_coronadelicos.head()"
      ],
      "execution_count": null,
      "outputs": [
        {
          "output_type": "execute_result",
          "data": {
            "text/html": [
              "<div>\n",
              "<style scoped>\n",
              "    .dataframe tbody tr th:only-of-type {\n",
              "        vertical-align: middle;\n",
              "    }\n",
              "\n",
              "    .dataframe tbody tr th {\n",
              "        vertical-align: top;\n",
              "    }\n",
              "\n",
              "    .dataframe thead th {\n",
              "        text-align: right;\n",
              "    }\n",
              "</style>\n",
              "<table border=\"1\" class=\"dataframe\">\n",
              "  <thead>\n",
              "    <tr style=\"text-align: right;\">\n",
              "      <th></th>\n",
              "      <th>0_religiosidad</th>\n",
              "      <th>0_frecuencia_practicas_religiosas</th>\n",
              "      <th>0_cambio_frecuencia_practicas_religiosas</th>\n",
              "      <th>0_frecuencia_meditacion</th>\n",
              "      <th>0_cambio_frecuencia_meditacion</th>\n",
              "      <th>0_antencion_previa</th>\n",
              "      <th>0_internacion</th>\n",
              "      <th>0_tomando_medicacion</th>\n",
              "      <th>1_psicodelicos_consumidos</th>\n",
              "      <th>2_cuantas_veces_consumio</th>\n",
              "      <th>2_calificacion_experiencia</th>\n",
              "      <th>2_programa_microdosificacion</th>\n",
              "      <th>2_cambio_consumo</th>\n",
              "      <th>2_disminuyo_por_factores</th>\n",
              "      <th>3_psicodelico_mas_significativo</th>\n",
              "      <th>4_psicodelico_ultima_vez</th>\n",
              "      <th>5_psicodelicos_motivos</th>\n",
              "      <th>5_otro_motivo</th>\n",
              "      <th>6_psicoactivos_cosumidos</th>\n",
              "      <th>6_otro_psicoactivo</th>\n",
              "      <th>7_marihuana</th>\n",
              "      <th>7_tabaco</th>\n",
              "      <th>7_estimulantes</th>\n",
              "      <th>7_cafeína</th>\n",
              "      <th>7_sedativos</th>\n",
              "      <th>7_antidepresivos o antipsicoticos</th>\n",
              "      <th>7_disociativos</th>\n",
              "      <th>7_alcohol</th>\n",
              "      <th>7_mdma</th>\n",
              "      <th>7_otro</th>\n",
              "      <th>7_marihuana_disminuyo_por_factores_externos</th>\n",
              "      <th>7_tabaco_disminuyo_por_factores_externos</th>\n",
              "      <th>7_estimulantes_disminuyo_por_factores_externos</th>\n",
              "      <th>7_cafeína_disminuyo_por_factores_externos</th>\n",
              "      <th>7_sedativos_disminuyo_por_factores_externos</th>\n",
              "      <th>7_antidepresivos o antipsicoticos_disminuyo_por_factores_externos</th>\n",
              "      <th>7_disociativos_disminuyo_por_factores_externos</th>\n",
              "      <th>7_alcohol_disminuyo_por_factores_externos</th>\n",
              "      <th>7_mdma_disminuyo_por_factores_externos</th>\n",
              "      <th>7_otro_disminuyo_por_factores_externos</th>\n",
              "      <th>...</th>\n",
              "      <th>10_agitado</th>\n",
              "      <th>10_activo</th>\n",
              "      <th>10_miedoso</th>\n",
              "      <th>11_se_lo_que_quiero_hacer</th>\n",
              "      <th>11_aceptar_lo_que_sale_mal</th>\n",
              "      <th>11_importa_pensar_en_futuro</th>\n",
              "      <th>11_puedo_decir_lo_que_pienso</th>\n",
              "      <th>11_le_caigo_bien_a_la_gente</th>\n",
              "      <th>11_podre_lograr_metas</th>\n",
              "      <th>11_cuento_con_personas_que_ayudan</th>\n",
              "      <th>11_en_general_me_llevo_bien_con_la_gente</th>\n",
              "      <th>11_hago_lo_que_quiero</th>\n",
              "      <th>11_capaz_de_pensar_proyecto_de_vida</th>\n",
              "      <th>11_aceptar_equivocaciones_mejorar</th>\n",
              "      <th>11_tomar_decisiones_sin_dudar</th>\n",
              "      <th>11_encaro_oblicaciones_sin_problemas</th>\n",
              "      <th>12_llevo_a_cabo_planes_hasta_el_final</th>\n",
              "      <th>12_manejo_problemas_distintos_modos</th>\n",
              "      <th>12_hacer_cosas_sin_depender</th>\n",
              "      <th>12_mantengo_interes_cosas_importantes</th>\n",
              "      <th>12_tomar_las_cosas_sin_preocupacion</th>\n",
              "      <th>12_amigable_conmigo</th>\n",
              "      <th>12_manejar_varias_cosas</th>\n",
              "      <th>12_decidido</th>\n",
              "      <th>12_rara_vez_pregunto_objetivo_de_las_cosas</th>\n",
              "      <th>12_hago_cosas_de_a_una</th>\n",
              "      <th>12_auto_disciplinado</th>\n",
              "      <th>12_mantengo_interes</th>\n",
              "      <th>12_usualmente_encuentro_cosas_de_que_reirme</th>\n",
              "      <th>12_confianza_en_mi_pasar_tiempos_dificiles</th>\n",
              "      <th>12_en_emergencias_pueden_confiar_en_mi</th>\n",
              "      <th>12_ver_situacion_varios_puntos_de_vista</th>\n",
              "      <th>12_mi_vida_tiene_sentido</th>\n",
              "      <th>12_no_insito_en_cosas_que_no_puedo_hacer_nada</th>\n",
              "      <th>12_encuentro_salida_en_situacion_dificil</th>\n",
              "      <th>12_tengo_energia_para_lo_que_tengo_que_hacer</th>\n",
              "      <th>12_siento_comodo_si_hay_gente_a_la_que_no_le_agrado</th>\n",
              "      <th>13_login_disclaimer_fork</th>\n",
              "      <th>timestamp</th>\n",
              "      <th>hash</th>\n",
              "    </tr>\n",
              "  </thead>\n",
              "  <tbody>\n",
              "    <tr>\n",
              "      <th>0</th>\n",
              "      <td>0</td>\n",
              "      <td>5</td>\n",
              "      <td>50</td>\n",
              "      <td>5</td>\n",
              "      <td>50</td>\n",
              "      <td>2</td>\n",
              "      <td>2</td>\n",
              "      <td>2</td>\n",
              "      <td>-999</td>\n",
              "      <td>-999</td>\n",
              "      <td>-999</td>\n",
              "      <td>-999</td>\n",
              "      <td>-999</td>\n",
              "      <td>-999</td>\n",
              "      <td>-999</td>\n",
              "      <td>-999</td>\n",
              "      <td>-999</td>\n",
              "      <td>-999</td>\n",
              "      <td>4,8,10</td>\n",
              "      <td>Mate</td>\n",
              "      <td>-999</td>\n",
              "      <td>-999</td>\n",
              "      <td>-999</td>\n",
              "      <td>73</td>\n",
              "      <td>-999</td>\n",
              "      <td>-999</td>\n",
              "      <td>-999</td>\n",
              "      <td>25</td>\n",
              "      <td>-999</td>\n",
              "      <td>59</td>\n",
              "      <td>-999</td>\n",
              "      <td>-999</td>\n",
              "      <td>-999</td>\n",
              "      <td>0</td>\n",
              "      <td>-999</td>\n",
              "      <td>-999</td>\n",
              "      <td>-999</td>\n",
              "      <td>1</td>\n",
              "      <td>-999</td>\n",
              "      <td>0</td>\n",
              "      <td>...</td>\n",
              "      <td>4</td>\n",
              "      <td>4</td>\n",
              "      <td>3</td>\n",
              "      <td>2</td>\n",
              "      <td>1</td>\n",
              "      <td>1</td>\n",
              "      <td>2</td>\n",
              "      <td>2</td>\n",
              "      <td>2</td>\n",
              "      <td>1</td>\n",
              "      <td>1</td>\n",
              "      <td>1</td>\n",
              "      <td>3</td>\n",
              "      <td>1</td>\n",
              "      <td>1</td>\n",
              "      <td>1</td>\n",
              "      <td>6</td>\n",
              "      <td>5</td>\n",
              "      <td>5</td>\n",
              "      <td>5</td>\n",
              "      <td>2</td>\n",
              "      <td>5</td>\n",
              "      <td>4</td>\n",
              "      <td>4</td>\n",
              "      <td>2</td>\n",
              "      <td>2</td>\n",
              "      <td>3</td>\n",
              "      <td>6</td>\n",
              "      <td>6</td>\n",
              "      <td>4</td>\n",
              "      <td>5</td>\n",
              "      <td>6</td>\n",
              "      <td>6</td>\n",
              "      <td>5</td>\n",
              "      <td>6</td>\n",
              "      <td>6</td>\n",
              "      <td>4</td>\n",
              "      <td>2</td>\n",
              "      <td>9/4/2020 17:32:50</td>\n",
              "      <td>-1239720818213738213</td>\n",
              "    </tr>\n",
              "    <tr>\n",
              "      <th>1</th>\n",
              "      <td>2</td>\n",
              "      <td>5</td>\n",
              "      <td>50</td>\n",
              "      <td>5</td>\n",
              "      <td>50</td>\n",
              "      <td>2</td>\n",
              "      <td>2</td>\n",
              "      <td>2</td>\n",
              "      <td>-999</td>\n",
              "      <td>-999</td>\n",
              "      <td>-999</td>\n",
              "      <td>-999</td>\n",
              "      <td>-999</td>\n",
              "      <td>-999</td>\n",
              "      <td>-999</td>\n",
              "      <td>-999</td>\n",
              "      <td>-999</td>\n",
              "      <td>-999</td>\n",
              "      <td>-999</td>\n",
              "      <td>-999</td>\n",
              "      <td>-999</td>\n",
              "      <td>-999</td>\n",
              "      <td>-999</td>\n",
              "      <td>-999</td>\n",
              "      <td>-999</td>\n",
              "      <td>-999</td>\n",
              "      <td>-999</td>\n",
              "      <td>-999</td>\n",
              "      <td>-999</td>\n",
              "      <td>-999</td>\n",
              "      <td>-999</td>\n",
              "      <td>-999</td>\n",
              "      <td>-999</td>\n",
              "      <td>-999</td>\n",
              "      <td>-999</td>\n",
              "      <td>-999</td>\n",
              "      <td>-999</td>\n",
              "      <td>-999</td>\n",
              "      <td>-999</td>\n",
              "      <td>-999</td>\n",
              "      <td>...</td>\n",
              "      <td>1</td>\n",
              "      <td>3</td>\n",
              "      <td>1</td>\n",
              "      <td>1</td>\n",
              "      <td>1</td>\n",
              "      <td>1</td>\n",
              "      <td>1</td>\n",
              "      <td>2</td>\n",
              "      <td>1</td>\n",
              "      <td>1</td>\n",
              "      <td>1</td>\n",
              "      <td>1</td>\n",
              "      <td>1</td>\n",
              "      <td>1</td>\n",
              "      <td>2</td>\n",
              "      <td>1</td>\n",
              "      <td>6</td>\n",
              "      <td>4</td>\n",
              "      <td>6</td>\n",
              "      <td>7</td>\n",
              "      <td>3</td>\n",
              "      <td>7</td>\n",
              "      <td>5</td>\n",
              "      <td>6</td>\n",
              "      <td>2</td>\n",
              "      <td>5</td>\n",
              "      <td>7</td>\n",
              "      <td>6</td>\n",
              "      <td>7</td>\n",
              "      <td>7</td>\n",
              "      <td>6</td>\n",
              "      <td>7</td>\n",
              "      <td>7</td>\n",
              "      <td>7</td>\n",
              "      <td>6</td>\n",
              "      <td>6</td>\n",
              "      <td>2</td>\n",
              "      <td>2</td>\n",
              "      <td>9/4/2020 18:13:45</td>\n",
              "      <td>-2950085219047129132</td>\n",
              "    </tr>\n",
              "    <tr>\n",
              "      <th>2</th>\n",
              "      <td>0</td>\n",
              "      <td>5</td>\n",
              "      <td>50</td>\n",
              "      <td>5</td>\n",
              "      <td>50</td>\n",
              "      <td>2</td>\n",
              "      <td>2</td>\n",
              "      <td>2</td>\n",
              "      <td>-999</td>\n",
              "      <td>-999</td>\n",
              "      <td>-999</td>\n",
              "      <td>-999</td>\n",
              "      <td>-999</td>\n",
              "      <td>-999</td>\n",
              "      <td>-999</td>\n",
              "      <td>-999</td>\n",
              "      <td>-999</td>\n",
              "      <td>-999</td>\n",
              "      <td>4,8</td>\n",
              "      <td>-999</td>\n",
              "      <td>-999</td>\n",
              "      <td>-999</td>\n",
              "      <td>-999</td>\n",
              "      <td>66</td>\n",
              "      <td>-999</td>\n",
              "      <td>-999</td>\n",
              "      <td>-999</td>\n",
              "      <td>0</td>\n",
              "      <td>-999</td>\n",
              "      <td>-999</td>\n",
              "      <td>-999</td>\n",
              "      <td>-999</td>\n",
              "      <td>-999</td>\n",
              "      <td>0</td>\n",
              "      <td>-999</td>\n",
              "      <td>-999</td>\n",
              "      <td>-999</td>\n",
              "      <td>0</td>\n",
              "      <td>-999</td>\n",
              "      <td>-999</td>\n",
              "      <td>...</td>\n",
              "      <td>1</td>\n",
              "      <td>2</td>\n",
              "      <td>1</td>\n",
              "      <td>1</td>\n",
              "      <td>1</td>\n",
              "      <td>1</td>\n",
              "      <td>2</td>\n",
              "      <td>3</td>\n",
              "      <td>1</td>\n",
              "      <td>1</td>\n",
              "      <td>2</td>\n",
              "      <td>1</td>\n",
              "      <td>1</td>\n",
              "      <td>1</td>\n",
              "      <td>3</td>\n",
              "      <td>3</td>\n",
              "      <td>5</td>\n",
              "      <td>5</td>\n",
              "      <td>5</td>\n",
              "      <td>7</td>\n",
              "      <td>5</td>\n",
              "      <td>4</td>\n",
              "      <td>3</td>\n",
              "      <td>5</td>\n",
              "      <td>6</td>\n",
              "      <td>4</td>\n",
              "      <td>4</td>\n",
              "      <td>5</td>\n",
              "      <td>6</td>\n",
              "      <td>4</td>\n",
              "      <td>7</td>\n",
              "      <td>5</td>\n",
              "      <td>6</td>\n",
              "      <td>6</td>\n",
              "      <td>6</td>\n",
              "      <td>7</td>\n",
              "      <td>2</td>\n",
              "      <td>1</td>\n",
              "      <td>9/4/2020 18:19:48</td>\n",
              "      <td>-5491644562442853484</td>\n",
              "    </tr>\n",
              "    <tr>\n",
              "      <th>3</th>\n",
              "      <td>7</td>\n",
              "      <td>5</td>\n",
              "      <td>50</td>\n",
              "      <td>5</td>\n",
              "      <td>50</td>\n",
              "      <td>1</td>\n",
              "      <td>2</td>\n",
              "      <td>2</td>\n",
              "      <td>-999</td>\n",
              "      <td>-999</td>\n",
              "      <td>-999</td>\n",
              "      <td>-999</td>\n",
              "      <td>-999</td>\n",
              "      <td>-999</td>\n",
              "      <td>-999</td>\n",
              "      <td>-999</td>\n",
              "      <td>-999</td>\n",
              "      <td>-999</td>\n",
              "      <td>1,2,4</td>\n",
              "      <td>-999</td>\n",
              "      <td>-999</td>\n",
              "      <td>-999</td>\n",
              "      <td>-999</td>\n",
              "      <td>-999</td>\n",
              "      <td>-999</td>\n",
              "      <td>-999</td>\n",
              "      <td>-999</td>\n",
              "      <td>-999</td>\n",
              "      <td>-999</td>\n",
              "      <td>-999</td>\n",
              "      <td>-999</td>\n",
              "      <td>-999</td>\n",
              "      <td>-999</td>\n",
              "      <td>-999</td>\n",
              "      <td>42</td>\n",
              "      <td>0</td>\n",
              "      <td>44</td>\n",
              "      <td>1</td>\n",
              "      <td>67</td>\n",
              "      <td>0</td>\n",
              "      <td>...</td>\n",
              "      <td>4</td>\n",
              "      <td>4</td>\n",
              "      <td>4</td>\n",
              "      <td>1</td>\n",
              "      <td>1</td>\n",
              "      <td>1</td>\n",
              "      <td>1</td>\n",
              "      <td>1</td>\n",
              "      <td>1</td>\n",
              "      <td>1</td>\n",
              "      <td>1</td>\n",
              "      <td>2</td>\n",
              "      <td>1</td>\n",
              "      <td>1</td>\n",
              "      <td>1</td>\n",
              "      <td>2</td>\n",
              "      <td>5</td>\n",
              "      <td>5</td>\n",
              "      <td>6</td>\n",
              "      <td>6</td>\n",
              "      <td>4</td>\n",
              "      <td>5</td>\n",
              "      <td>5</td>\n",
              "      <td>6</td>\n",
              "      <td>4</td>\n",
              "      <td>3</td>\n",
              "      <td>4</td>\n",
              "      <td>5</td>\n",
              "      <td>5</td>\n",
              "      <td>5</td>\n",
              "      <td>5</td>\n",
              "      <td>5</td>\n",
              "      <td>5</td>\n",
              "      <td>3</td>\n",
              "      <td>5</td>\n",
              "      <td>4</td>\n",
              "      <td>3</td>\n",
              "      <td>1</td>\n",
              "      <td>9/4/2020 18:20:32</td>\n",
              "      <td>-1149964741979325951</td>\n",
              "    </tr>\n",
              "    <tr>\n",
              "      <th>4</th>\n",
              "      <td>9</td>\n",
              "      <td>5</td>\n",
              "      <td>50</td>\n",
              "      <td>3</td>\n",
              "      <td>49</td>\n",
              "      <td>1</td>\n",
              "      <td>2</td>\n",
              "      <td>2</td>\n",
              "      <td>-999</td>\n",
              "      <td>-999</td>\n",
              "      <td>-999</td>\n",
              "      <td>-999</td>\n",
              "      <td>-999</td>\n",
              "      <td>-999</td>\n",
              "      <td>-999</td>\n",
              "      <td>-999</td>\n",
              "      <td>-999</td>\n",
              "      <td>-999</td>\n",
              "      <td>1,4,8</td>\n",
              "      <td>-999</td>\n",
              "      <td>2</td>\n",
              "      <td>-999</td>\n",
              "      <td>-999</td>\n",
              "      <td>74</td>\n",
              "      <td>-999</td>\n",
              "      <td>-999</td>\n",
              "      <td>-999</td>\n",
              "      <td>40</td>\n",
              "      <td>-999</td>\n",
              "      <td>-999</td>\n",
              "      <td>1</td>\n",
              "      <td>-999</td>\n",
              "      <td>-999</td>\n",
              "      <td>0</td>\n",
              "      <td>-999</td>\n",
              "      <td>-999</td>\n",
              "      <td>-999</td>\n",
              "      <td>0</td>\n",
              "      <td>-999</td>\n",
              "      <td>-999</td>\n",
              "      <td>...</td>\n",
              "      <td>4</td>\n",
              "      <td>4</td>\n",
              "      <td>2</td>\n",
              "      <td>2</td>\n",
              "      <td>1</td>\n",
              "      <td>1</td>\n",
              "      <td>3</td>\n",
              "      <td>3</td>\n",
              "      <td>3</td>\n",
              "      <td>1</td>\n",
              "      <td>2</td>\n",
              "      <td>2</td>\n",
              "      <td>1</td>\n",
              "      <td>1</td>\n",
              "      <td>3</td>\n",
              "      <td>1</td>\n",
              "      <td>5</td>\n",
              "      <td>5</td>\n",
              "      <td>6</td>\n",
              "      <td>4</td>\n",
              "      <td>3</td>\n",
              "      <td>3</td>\n",
              "      <td>5</td>\n",
              "      <td>5</td>\n",
              "      <td>2</td>\n",
              "      <td>2</td>\n",
              "      <td>5</td>\n",
              "      <td>4</td>\n",
              "      <td>6</td>\n",
              "      <td>4</td>\n",
              "      <td>6</td>\n",
              "      <td>6</td>\n",
              "      <td>3</td>\n",
              "      <td>1</td>\n",
              "      <td>5</td>\n",
              "      <td>4</td>\n",
              "      <td>4</td>\n",
              "      <td>1</td>\n",
              "      <td>9/4/2020 18:20:21</td>\n",
              "      <td>-8003479794066427504</td>\n",
              "    </tr>\n",
              "  </tbody>\n",
              "</table>\n",
              "<p>5 rows × 137 columns</p>\n",
              "</div>"
            ],
            "text/plain": [
              "   0_religiosidad  ...                 hash\n",
              "0               0  ... -1239720818213738213\n",
              "1               2  ... -2950085219047129132\n",
              "2               0  ... -5491644562442853484\n",
              "3               7  ... -1149964741979325951\n",
              "4               9  ... -8003479794066427504\n",
              "\n",
              "[5 rows x 137 columns]"
            ]
          },
          "metadata": {
            "tags": []
          },
          "execution_count": 6
        }
      ]
    },
    {
      "cell_type": "markdown",
      "metadata": {
        "id": "SX8RJTr6pCxl"
      },
      "source": [
        "# Unión Bases de Datos"
      ]
    },
    {
      "cell_type": "markdown",
      "metadata": {
        "id": "Rh_zOZYyYT_X"
      },
      "source": [
        "Unirlos en un único dataframe usando la columna \"hash\" y descartando sujetos que no participaron de ambos experimentos."
      ]
    },
    {
      "cell_type": "code",
      "metadata": {
        "id": "SV7IE-_67jXs"
      },
      "source": [
        "# Interseccion de las bases con la columna \"hash\"\n",
        "df_combinado = pd.merge(df_coronadelicos, df_ocean, how='inner', on='hash')"
      ],
      "execution_count": null,
      "outputs": []
    },
    {
      "cell_type": "code",
      "metadata": {
        "id": "Db4MrhDnidm2",
        "colab": {
          "base_uri": "https://localhost:8080/"
        },
        "outputId": "c3cb33f5-602a-43c9-f223-db6be12c5f0f"
      },
      "source": [
        "print(df_combinado)"
      ],
      "execution_count": null,
      "outputs": [
        {
          "output_type": "stream",
          "text": [
            "      0_religiosidad  0_frecuencia_practicas_religiosas  ...  2_edad  2_genero\n",
            "0                  0                                  5  ...      21         2\n",
            "1                  2                                  5  ...      41         2\n",
            "2                  0                                  5  ...      23         1\n",
            "3                  7                                  5  ...      31         1\n",
            "4                  9                                  5  ...      21         1\n",
            "...              ...                                ...  ...     ...       ...\n",
            "8231              15                                  5  ...      29         1\n",
            "8232              50                                  3  ...      19         1\n",
            "8233               0                                  5  ...      25         1\n",
            "8234               0                                  5  ...      28         2\n",
            "8235              33                                  5  ...      22         2\n",
            "\n",
            "[8236 rows x 144 columns]\n"
          ],
          "name": "stdout"
        }
      ]
    },
    {
      "cell_type": "code",
      "metadata": {
        "id": "A6jnv5RHJ7v2"
      },
      "source": [
        "# Para control personal\n",
        "df_combinado.to_csv('df_combinado.csv')"
      ],
      "execution_count": null,
      "outputs": []
    },
    {
      "cell_type": "markdown",
      "metadata": {
        "id": "w6bOKJEgpT7h"
      },
      "source": [
        "# Armado de 3 DataFrames"
      ]
    },
    {
      "cell_type": "markdown",
      "metadata": {
        "id": "XSNp7LAbnWnc"
      },
      "source": [
        "**Segundo Paso** \n",
        "Armar tres dataframes distintos basado en los siguientes criterios:\n"
      ]
    },
    {
      "cell_type": "markdown",
      "metadata": {
        "id": "5V5jTUMLngJe"
      },
      "source": [
        "## 1. Sujetos que al menos una vez consumieron marihuana.\n",
        "\n"
      ]
    },
    {
      "cell_type": "code",
      "metadata": {
        "colab": {
          "base_uri": "https://localhost:8080/"
        },
        "id": "sux_Lyann4V9",
        "outputId": "d0d5f7e5-7be0-45b2-efa9-27c89ffeddb0"
      },
      "source": [
        "# Sujetos que reportaron haber consumido marihuana al menos una vez.\n",
        "suj_consumo_marih = df_combinado[(df_combinado['7_marihuana']!=-999)]\n",
        "print(f'El dataset de Sujetos que consumiron al menos una vez marihuana tiene: {suj_consumo_marih.shape[0]} casos')\n"
      ],
      "execution_count": null,
      "outputs": [
        {
          "output_type": "stream",
          "text": [
            "El dataset de Sujetos que consumiron al menos una vez marihuana tiene: 5182 casos\n"
          ],
          "name": "stdout"
        }
      ]
    },
    {
      "cell_type": "markdown",
      "metadata": {
        "id": "nAC0G7zmbmsF"
      },
      "source": [
        "## 2. Sujetos que nunca consumieron marihuana."
      ]
    },
    {
      "cell_type": "code",
      "metadata": {
        "colab": {
          "base_uri": "https://localhost:8080/"
        },
        "id": "Xeiu21s3bmIO",
        "outputId": "8c9df7f0-26b8-4c17-f579-4180d4257450"
      },
      "source": [
        "# Sujetos que reportaron nunca haber consumido marihuana.\n",
        "suj_sinconsumo_marih = df_combinado[(df_combinado['7_marihuana']==-999)]\n",
        "print(f'El dataset de Sujetos que reportaron nunca haber consumido marihuana: {suj_sinconsumo_marih.shape[0]} casos')"
      ],
      "execution_count": null,
      "outputs": [
        {
          "output_type": "stream",
          "text": [
            "El dataset de Sujetos que reportaron nunca haber consumido marihuana: 3054 casos\n"
          ],
          "name": "stdout"
        }
      ]
    },
    {
      "cell_type": "markdown",
      "metadata": {
        "id": "OgzgQgKpbr0l"
      },
      "source": [
        "## 3. Sujetos que reportaron haber consumido sedativos y/o antidepresivos o antipsicóticos."
      ]
    },
    {
      "cell_type": "code",
      "metadata": {
        "colab": {
          "base_uri": "https://localhost:8080/"
        },
        "id": "YAezmXyHbuq1",
        "outputId": "645605e1-29ef-4eb8-d996-e226df7b426c"
      },
      "source": [
        "suj_consumo_antidp = df_combinado.loc[(df_combinado['7_antidepresivos o antipsicoticos']!=-999)]\n",
        "print(f'El dataset de Sujetos que reportaron haber consumido antidepresivos o antipsicoticos: {suj_consumo_antidp.shape[0]} casos')\n"
      ],
      "execution_count": null,
      "outputs": [
        {
          "output_type": "stream",
          "text": [
            "El dataset de Sujetos que reportaron haber consumido antidepresivos o antipsicoticos: 828 casos\n"
          ],
          "name": "stdout"
        }
      ]
    },
    {
      "cell_type": "code",
      "metadata": {
        "colab": {
          "base_uri": "https://localhost:8080/"
        },
        "id": "I4_w5J3lB4on",
        "outputId": "8b814c50-9e00-4cd8-8b90-c30a2837bbce"
      },
      "source": [
        "print (suj_consumo_antidp['1_agreeableness'])"
      ],
      "execution_count": null,
      "outputs": [
        {
          "output_type": "stream",
          "text": [
            "13      31\n",
            "16      34\n",
            "17      34\n",
            "24      37\n",
            "25      31\n",
            "        ..\n",
            "8181    30\n",
            "8183    38\n",
            "8202    38\n",
            "8219    27\n",
            "8224    24\n",
            "Name: 1_agreeableness, Length: 828, dtype: int64\n"
          ],
          "name": "stdout"
        }
      ]
    },
    {
      "cell_type": "markdown",
      "metadata": {
        "id": "p1XacvWepoW3"
      },
      "source": [
        "# Las 5 dimensiones de la personalidad."
      ]
    },
    {
      "cell_type": "markdown",
      "metadata": {
        "id": "_JZv_JARpyKO"
      },
      "source": [
        "**Tercer paso:** Armar nuevos dataframes que contengan columnas para las 5 dimensiones de la personalidad."
      ]
    },
    {
      "cell_type": "code",
      "metadata": {
        "colab": {
          "base_uri": "https://localhost:8080/"
        },
        "id": "6fDW8i-vrX2W",
        "outputId": "905faa47-a418-411b-f91d-cca1c9188888"
      },
      "source": [
        "# A modo informativo de la estructura\n",
        "df_combinado.info()"
      ],
      "execution_count": null,
      "outputs": [
        {
          "output_type": "stream",
          "text": [
            "<class 'pandas.core.frame.DataFrame'>\n",
            "Int64Index: 8236 entries, 0 to 8235\n",
            "Columns: 144 entries, 0_religiosidad to 2_genero\n",
            "dtypes: int64(138), object(6)\n",
            "memory usage: 9.1+ MB\n"
          ],
          "name": "stdout"
        }
      ]
    },
    {
      "cell_type": "code",
      "metadata": {
        "colab": {
          "base_uri": "https://localhost:8080/"
        },
        "id": "TMybwTjBp13u",
        "outputId": "d8778530-f6db-4614-f344-bfebd65b0d5a"
      },
      "source": [
        "columnas = ['1_extraversion', '1_agreeableness', '1_conscientiousness', '1_neuroticism', '1_openness']\n",
        "df_Dim = df_combinado[columnas].copy()\n",
        "df_Dim.info()"
      ],
      "execution_count": null,
      "outputs": [
        {
          "output_type": "stream",
          "text": [
            "<class 'pandas.core.frame.DataFrame'>\n",
            "Int64Index: 8236 entries, 0 to 8235\n",
            "Data columns (total 5 columns):\n",
            " #   Column               Non-Null Count  Dtype\n",
            "---  ------               --------------  -----\n",
            " 0   1_extraversion       8236 non-null   int64\n",
            " 1   1_agreeableness      8236 non-null   int64\n",
            " 2   1_conscientiousness  8236 non-null   int64\n",
            " 3   1_neuroticism        8236 non-null   int64\n",
            " 4   1_openness           8236 non-null   int64\n",
            "dtypes: int64(5)\n",
            "memory usage: 386.1 KB\n"
          ],
          "name": "stdout"
        }
      ]
    },
    {
      "cell_type": "markdown",
      "metadata": {
        "id": "ya9G-4ZavGzT"
      },
      "source": [
        "# Armar un radar plot donde las 5 dimensiones"
      ]
    },
    {
      "cell_type": "markdown",
      "metadata": {
        "id": "_KgJ-o2NvOF3"
      },
      "source": [
        "Armar un radar plot con datos de las dimensiones"
      ]
    },
    {
      "cell_type": "code",
      "metadata": {
        "colab": {
          "base_uri": "https://localhost:8080/"
        },
        "id": "rULihd3iPHxW",
        "outputId": "3efd59ac-c521-4108-c688-972bb5bfc598"
      },
      "source": [
        "#  Prueba de obtener los promedios para Sujetos que reportaron haber consumido marihuana al menos una vez.\n",
        "Extroversión = suj_consumo_marih['1_extraversion'].mean()\n",
        "Agradabilidad = suj_consumo_marih['1_agreeableness'].mean()\n",
        "Escrupulosidad = suj_consumo_marih['1_conscientiousness'].mean()\n",
        "Neurotismo = suj_consumo_marih['1_neuroticism'].mean()\n",
        "Apertura =  suj_consumo_marih['1_openness'].mean()\n",
        "print (Extroversión, Agradabilidad, Escrupulosidad, Neurotismo, Apertura )"
      ],
      "execution_count": null,
      "outputs": [
        {
          "output_type": "stream",
          "text": [
            "25.846005403319182 32.57564646854496 29.3018139714396 26.02354303357777 38.918178309533\n"
          ],
          "name": "stdout"
        }
      ]
    },
    {
      "cell_type": "code",
      "metadata": {
        "colab": {
          "base_uri": "https://localhost:8080/"
        },
        "id": "ugNVINzxoWan",
        "outputId": "357aab74-4cde-4d31-f483-a661afa2dd3e"
      },
      "source": [
        "# Guardo los datos en un diccionario y los agrego a una lista llamada data\n",
        "data = []\n",
        "columns =  ['Extroversión', 'Agradabilidad', 'Escrupulosidad', 'Neurotismo', 'Apertura']\n",
        "values = [ Extroversión , Agradabilidad, Escrupulosidad, Neurotismo, Apertura]\n",
        "zipped = zip(columns, values)\n",
        "a_dictionary = dict(zipped)\n",
        "print(a_dictionary)\n",
        "data.append(a_dictionary)"
      ],
      "execution_count": null,
      "outputs": [
        {
          "output_type": "stream",
          "text": [
            "{'Extroversión': 25.846005403319182, 'Agradabilidad': 32.57564646854496, 'Escrupulosidad': 29.3018139714396, 'Neurotismo': 26.02354303357777, 'Apertura': 38.918178309533}\n"
          ],
          "name": "stdout"
        }
      ]
    },
    {
      "cell_type": "code",
      "metadata": {
        "colab": {
          "base_uri": "https://localhost:8080/"
        },
        "id": "OC_e2tpupJvF",
        "outputId": "7f7b184b-423c-4fdf-f47f-d8613025a203"
      },
      "source": [
        "# Prueba de obtener los promedios para Sujetos que reportaron nunca haber consumido marihuana.\n",
        "Extroversión = suj_sinconsumo_marih['1_extraversion'].mean()\n",
        "Agradabilidad = suj_sinconsumo_marih['1_agreeableness'].mean()\n",
        "Escrupulosidad = suj_sinconsumo_marih['1_conscientiousness'].mean()\n",
        "Neurotismo = suj_sinconsumo_marih['1_neuroticism'].mean()\n",
        "Apertura =  suj_sinconsumo_marih['1_openness'].mean()\n",
        "print (Extroversión, Agradabilidad, Escrupulosidad, Neurotismo, Apertura )"
      ],
      "execution_count": null,
      "outputs": [
        {
          "output_type": "stream",
          "text": [
            "25.536345776031435 32.89194499017682 31.06286836935167 25.832351015062212 37.90864440078585\n"
          ],
          "name": "stdout"
        }
      ]
    },
    {
      "cell_type": "code",
      "metadata": {
        "colab": {
          "base_uri": "https://localhost:8080/"
        },
        "id": "FeV9k68mp4z3",
        "outputId": "31295692-02c5-42c0-88c7-1a5b219f214c"
      },
      "source": [
        "# Guardo los datos en un diccionario y los agrego a una lista llamada data\n",
        "columns =  ['Extroversión', 'Agradabilidad', 'Escrupulosidad', 'Neurotismo', 'Apertura']\n",
        "values = [ Extroversión , Agradabilidad, Escrupulosidad, Neurotismo, Apertura]\n",
        "zipped = zip(columns, values)\n",
        "a_dictionary = dict(zipped)\n",
        "print(a_dictionary)\n",
        "data.append(a_dictionary)"
      ],
      "execution_count": null,
      "outputs": [
        {
          "output_type": "stream",
          "text": [
            "{'Extroversión': 25.536345776031435, 'Agradabilidad': 32.89194499017682, 'Escrupulosidad': 31.06286836935167, 'Neurotismo': 25.832351015062212, 'Apertura': 37.90864440078585}\n"
          ],
          "name": "stdout"
        }
      ]
    },
    {
      "cell_type": "code",
      "metadata": {
        "colab": {
          "base_uri": "https://localhost:8080/"
        },
        "id": "_5OeQJFWtwOM",
        "outputId": "700d2a8d-561d-4620-bda9-0f58954ba6a5"
      },
      "source": [
        "print (data)"
      ],
      "execution_count": null,
      "outputs": [
        {
          "output_type": "stream",
          "text": [
            "[{'Extroversión': 25.846005403319182, 'Agradabilidad': 32.57564646854496, 'Escrupulosidad': 29.3018139714396, 'Neurotismo': 26.02354303357777, 'Apertura': 38.918178309533}, {'Extroversión': 25.536345776031435, 'Agradabilidad': 32.89194499017682, 'Escrupulosidad': 31.06286836935167, 'Neurotismo': 25.832351015062212, 'Apertura': 37.90864440078585}]\n"
          ],
          "name": "stdout"
        }
      ]
    },
    {
      "cell_type": "code",
      "metadata": {
        "id": "FuNAgpQZqOK1"
      },
      "source": [
        "# Prueba de obtener los promedios para antidp\n",
        "Extroversión = suj_consumo_antidp['1_extraversion'].mean()\n",
        "Agradabilidad = suj_consumo_antidp['1_agreeableness'].mean()\n",
        "Escrupulosidad = suj_consumo_antidp['1_conscientiousness'].mean()\n",
        "Neurotismo = suj_consumo_antidp['1_neuroticism'].mean()\n",
        "Apertura =  suj_consumo_antidp['1_openness'].mean()\n",
        "print (Extroversión, Agradabilidad, Escrupulosidad, Neurotismo, Apertura )"
      ],
      "execution_count": null,
      "outputs": []
    },
    {
      "cell_type": "code",
      "metadata": {
        "id": "TqrSEUbEqgq8"
      },
      "source": [
        "# Guardo los datos en un diccionario y los agrego a una lista llamada data\n",
        "columns =  ['Extroversión', 'Agradabilidad', 'Escrupulosidad', 'Neurotismo', 'Apertura']\n",
        "values = [ Extroversión , Agradabilidad, Escrupulosidad, Neurotismo, Apertura]\n",
        "zipped = zip(columns, values)\n",
        "a_dictionary = dict(zipped)\n",
        "print(a_dictionary)\n",
        "data.append(a_dictionary)"
      ],
      "execution_count": null,
      "outputs": []
    },
    {
      "cell_type": "code",
      "metadata": {
        "colab": {
          "base_uri": "https://localhost:8080/"
        },
        "id": "HfZAuVtDsjgk",
        "outputId": "e1e7f481-32fe-4277-9d33-fb4d4e546a2e"
      },
      "source": [
        "print ( data)"
      ],
      "execution_count": null,
      "outputs": [
        {
          "output_type": "stream",
          "text": [
            "[{'Extroversión': 25.846005403319182, 'Agradabilidad': 32.57564646854496, 'Escrupulosidad': 29.3018139714396, 'Neurotismo': 26.02354303357777, 'Apertura': 38.918178309533}, {'Extroversión': 25.536345776031435, 'Agradabilidad': 32.89194499017682, 'Escrupulosidad': 31.06286836935167, 'Neurotismo': 25.832351015062212, 'Apertura': 37.90864440078585}, {'Extroversión': 25.16304347826087, 'Agradabilidad': 32.19202898550725, 'Escrupulosidad': 28.564009661835748, 'Neurotismo': 29.471014492753625, 'Apertura': 39.27415458937198}]\n"
          ],
          "name": "stdout"
        }
      ]
    },
    {
      "cell_type": "code",
      "metadata": {
        "colab": {
          "base_uri": "https://localhost:8080/"
        },
        "id": "7z2ZWe7Er-zF",
        "outputId": "cbebfb66-399e-4032-a3a8-c4d0b78dcd9c"
      },
      "source": [
        "# Busco el valor maximo dentro de la matriz\n",
        "maximo = df.max( )\n",
        "maxi = max ( maximo )\n",
        "print ( maxi )"
      ],
      "execution_count": null,
      "outputs": [
        {
          "output_type": "stream",
          "text": [
            "39.27415458937198\n"
          ],
          "name": "stdout"
        }
      ]
    },
    {
      "cell_type": "code",
      "metadata": {
        "id": "32_c3bAgs8Ui"
      },
      "source": [
        "# Agrego a un dataframe la lista obtenida\n",
        "dfpuro = pd.DataFrame(data, index=['Marihuana', 'No marihuana', 'Drogas de prescripción'])\n"
      ],
      "execution_count": null,
      "outputs": []
    },
    {
      "cell_type": "code",
      "metadata": {
        "colab": {
          "base_uri": "https://localhost:8080/"
        },
        "id": "st1Qy1-8tXE-",
        "outputId": "f2c7c245-d01b-4fc2-ef14-9ebdb7b5375c"
      },
      "source": [
        "print (dfpuro)"
      ],
      "execution_count": null,
      "outputs": [
        {
          "output_type": "stream",
          "text": [
            "                        Extroversión  Agradabilidad  ...  Neurotismo   Apertura\n",
            "Marihuana                  25.846005      32.575646  ...   26.023543  38.918178\n",
            "No marihuana               25.536346      32.891945  ...   25.832351  37.908644\n",
            "Drogas de prescripción     25.163043      32.192029  ...   29.471014  39.274155\n",
            "\n",
            "[3 rows x 5 columns]\n"
          ],
          "name": "stdout"
        }
      ]
    },
    {
      "cell_type": "code",
      "metadata": {
        "id": "0IDD7a3_4FKF"
      },
      "source": [
        "df = dfpuro.div(maxi)"
      ],
      "execution_count": null,
      "outputs": []
    },
    {
      "cell_type": "code",
      "metadata": {
        "colab": {
          "base_uri": "https://localhost:8080/"
        },
        "id": "xcxKyvlg_FfU",
        "outputId": "1f85560d-d74d-4cd7-9370-1b803687dc20"
      },
      "source": [
        "print (df)"
      ],
      "execution_count": null,
      "outputs": [
        {
          "output_type": "stream",
          "text": [
            "                        Extroversión  Agradabilidad  ...  Neurotismo  Apertura\n",
            "Marihuana                   0.658092       0.829442  ...    0.662612  0.990936\n",
            "No marihuana                0.650207       0.837496  ...    0.657744  0.965231\n",
            "Drogas de prescripción      0.640702       0.819675  ...    0.750392  1.000000\n",
            "\n",
            "[3 rows x 5 columns]\n"
          ],
          "name": "stdout"
        }
      ]
    },
    {
      "cell_type": "code",
      "metadata": {
        "id": "KjiunWSWvdO1"
      },
      "source": [
        "def radar_plot(df, title = '',):\n",
        "    categories = df.columns\n",
        "    N = len(categories)\n",
        "    # What will be the angle of each axis in the plot? (we divide the plot / number of variable)\n",
        "    angles = [n / float(N) * 2 * np.pi for n in range(N)]\n",
        "    angles += angles[:1]\n",
        "     \n",
        "    # Initialise the spider plot\n",
        "    fig, ax = plt.subplots(figsize = (6,6), subplot_kw = {'projection': 'polar'})\n",
        "     \n",
        "    # If you want the first axis to be on top:\n",
        "    ax.set_theta_offset(np.pi / 2)\n",
        "    ax.set_theta_direction(-1)\n",
        "     \n",
        "    # Draw one axe per variable + add labels labels yet\n",
        "    ax.set_xticks(angles[:-1])\n",
        "    ax.set_xticklabels(categories,\n",
        "                       fontsize = 12)\n",
        "     \n",
        "    # Draw ylabels\n",
        "    ax.set_rlabel_position(0)\n",
        "    ax.set_yticks([0.1,0.2,0.3,0.4,0.5,0.6,0.7,0.8,0.9,1])\n",
        "    ax.set_yticklabels([\"0.1\",\"0.2\",\"0.3\",\"0.4\",\"0.5\",\"0.6\", \"0.7\", \"0.8\", \"0.9\", \"1\"],\n",
        "                       color = \"darkgrey\",\n",
        "                       size = 7)\n",
        "    ax.set_ylim(0,1)\n",
        "    \n",
        "    # ------- PART 2: Add plots\n",
        "    \n",
        "    # Plot each individual = each line of the data\n",
        "    \n",
        "    for row in df.iloc:\n",
        "            values = row.values.flatten().tolist()\n",
        "            values += values[:1]\n",
        "            ax.plot(angles, values, linewidth=1.5, linestyle = 'solid', label = row.name)\n",
        "            ax.fill(angles, values, 'b', alpha=0.1)\n",
        "    # Add legend\n",
        "    ax.legend(loc=(-0.2,-0.3),fontsize=12)\n",
        "    ax.set_title(title, position=(.5, 1.2),fontsize=15,)"
      ],
      "execution_count": 125,
      "outputs": []
    },
    {
      "cell_type": "code",
      "metadata": {
        "id": "cxpQBvdMBbJL",
        "colab": {
          "base_uri": "https://localhost:8080/",
          "height": 538
        },
        "outputId": "6aed671d-9f11-465b-8515-95f089c26d9a"
      },
      "source": [
        "radar_plot(df,title='comparación de grupos')"
      ],
      "execution_count": 127,
      "outputs": [
        {
          "output_type": "display_data",
          "data": {
            "image/png": "[encoded data removed]",
            "text/plain": [
              "<Figure size 432x432 with 1 Axes>"
            ]
          },
          "metadata": {
            "tags": []
          }
        }
      ]
    },
    {
      "cell_type": "markdown",
      "metadata": {
        "id": "c3TDgMReF23d"
      },
      "source": [
        "#  Elijamos dos diferencias aparentes que existan entre grupos."
      ]
    },
    {
      "cell_type": "code",
      "metadata": {
        "id": "U1vdCRooGITV"
      },
      "source": [
        ""
      ],
      "execution_count": null,
      "outputs": []
    }
  ]
}