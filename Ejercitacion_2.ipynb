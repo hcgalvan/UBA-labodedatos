{
  "nbformat": 4,
  "nbformat_minor": 0,
  "metadata": {
    "colab": {
      "name": "Ejercitacion 2.ipynb",
      "provenance": [],
      "collapsed_sections": [],
      "toc_visible": true,
      "authorship_tag": "ABX9TyOW8+D/iQe51WoPA4xTb27d",
      "include_colab_link": true
    },
    "kernelspec": {
      "name": "python3",
      "display_name": "Python 3"
    },
    "language_info": {
      "name": "python"
    }
  },
  "cells": [
    {
      "cell_type": "markdown",
      "metadata": {
        "id": "view-in-github",
        "colab_type": "text"
      },
      "source": [
        "<a href=\"https://colab.research.google.com/github/hcgalvan/labodedatos/blob/main/Ejercitacion_2.ipynb\" target=\"_parent\"><img src=\"https://colab.research.google.com/assets/colab-badge.svg\" alt=\"Open In Colab\"/></a>"
      ]
    },
    {
      "cell_type": "markdown",
      "metadata": {
        "id": "jXrtg-Bio7dw"
      },
      "source": [
        "# Instrucciones Generales del Proyecto"
      ]
    },
    {
      "cell_type": "markdown",
      "metadata": {
        "id": "nNPZkqnBoNZA"
      },
      "source": [
        "**Instrucciones**\n",
        "\n",
        "El objetivo de la segunda ejercitación obligatoria es predecir el uso de anticoncepción en base a datos demográficos. \n",
        "\n",
        "> El problema es predecir el uso de anticonceptivos en la muestra (ningún método vs. métodos de corto o largo plazo).\n",
        "\n",
        "Atributos:\n",
        "\n",
        "1. Edad de la mujer (numérico)\n",
        "2. Educación de la mujer (ordinal, 1=bajo, 2, 3, 4=alto)\n",
        "3. Educación del hombre (ordinal, 1=bajo, 2, 3, 4=alto)\n",
        "4. Número de hijos nacidos (numérico)\n",
        "5. Religión de la mujer (binario, 1=Islam, 0= No islam)\n",
        "6. ¿Trabaja la mujer? (binario, 1=Sí, 0=No)\n",
        "7. Ocupación del hombre (categórico, 1,2,3,4)\n",
        "8. Índice de nivel de vida (ordinal, 1=bajo, 2, 3, 4=alto)\n",
        "9. Exposición a medios (binario, 1=Sí, 0=No)\n",
        "10. Método anticonceptivo utilizado (categórico, 1=No usa, 2=Largo plazo, 3=Corto plazo)\n",
        "\n",
        "**El objetivo es dicotomizar la variable 10** entre No usa (1) vs. Largo o corto plazo (2 o 3) y predecir la variable binaria resultante.\n",
        "\n",
        "---\n",
        "\n",
        "Ustedes van a bajar los datos, entrenar un modelo basado en regresión logística, optimizarlo, etc., usando las herramientas que vimos en la clase.\n",
        "\n",
        "Luego, les vamos a pasar datos sin etiquetas y ustedes estimarán la probabilidad de que la etiqueta sea positiva (uso de anticoncepción). \n",
        "\n",
        "Finalmente, nosotros usaremos esa información para calcular un AUC y rankearlos de acuerdo a la performance de sus modelos. Publicaremos el top 10 únicamente, y los primeros tres tendrán premios fantásticos. Además, serán invitados a mostrar sus notebooks y contar sus modelos.\n",
        "\n",
        "La fecha límite para el desarrollo de modelos es el día 7 de Mayo. Ese día les pasamos los datos y nos devuelven las probabilidades.\n"
      ]
    },
    {
      "cell_type": "markdown",
      "metadata": {
        "id": "KWxtHyIApDr_"
      },
      "source": [
        "# Conexion con Datos"
      ]
    },
    {
      "cell_type": "code",
      "metadata": {
        "id": "qdIdLl_4tam2"
      },
      "source": [
        "# Como siempre, tratamos de traer todos los paquetes al ppio\n",
        "from google.colab import drive # Para montar nuestro drive en la consola\n",
        "import matplotlib.pylab as plt # Para gráficos\n",
        "import numpy as np # Para manejo de arrays, operaciones matemáticas, etc.\n",
        "from sklearn.linear_model import LogisticRegression # El método de regresión logística que vamos a usar\n",
        "import pandas as pd # Para manejo de base de datos\n",
        "from sklearn.metrics import confusion_matrix # matriz de confusion\n",
        "import seaborn as sbn # Herramienta complementaria de visualización https://seaborn.pydata.org/"
      ],
      "execution_count": 29,
      "outputs": []
    },
    {
      "cell_type": "code",
      "metadata": {
        "id": "HjZoe0UNY-Y3",
        "colab": {
          "base_uri": "https://localhost:8080/",
          "height": 236
        },
        "outputId": "276051b0-dde2-43d2-c7c9-f5d71e89a478"
      },
      "source": [
        "# Traemos los datos\n",
        "drive.mount('/content/drive') # Montamos nuestra unidad de Google Drive\n",
        "\n",
        "filename = '/content/drive/My Drive/Practico2-anticoncepcion_indonesia.csv'\n",
        "\n",
        "d = pd.read_csv(filename) # Levantamos los datos, en este caso, con el método pd.read_excel\n",
        "d.head() # Mostramos las primeras líneas, para darnos una idea"
      ],
      "execution_count": 4,
      "outputs": [
        {
          "output_type": "stream",
          "text": [
            "Mounted at /content/drive\n"
          ],
          "name": "stdout"
        },
        {
          "output_type": "execute_result",
          "data": {
            "text/html": [
              "<div>\n",
              "<style scoped>\n",
              "    .dataframe tbody tr th:only-of-type {\n",
              "        vertical-align: middle;\n",
              "    }\n",
              "\n",
              "    .dataframe tbody tr th {\n",
              "        vertical-align: top;\n",
              "    }\n",
              "\n",
              "    .dataframe thead th {\n",
              "        text-align: right;\n",
              "    }\n",
              "</style>\n",
              "<table border=\"1\" class=\"dataframe\">\n",
              "  <thead>\n",
              "    <tr style=\"text-align: right;\">\n",
              "      <th></th>\n",
              "      <th>edad_mujer</th>\n",
              "      <th>educacion_mujer</th>\n",
              "      <th>educacion_hombre</th>\n",
              "      <th>numero_hijos</th>\n",
              "      <th>religion_mujer</th>\n",
              "      <th>mujer_trabaja</th>\n",
              "      <th>ocupacion_hombre</th>\n",
              "      <th>nivel_vida</th>\n",
              "      <th>exposicion_medios</th>\n",
              "      <th>metodo_anticonceptivo</th>\n",
              "    </tr>\n",
              "  </thead>\n",
              "  <tbody>\n",
              "    <tr>\n",
              "      <th>0</th>\n",
              "      <td>35</td>\n",
              "      <td>3</td>\n",
              "      <td>4</td>\n",
              "      <td>3</td>\n",
              "      <td>1</td>\n",
              "      <td>1</td>\n",
              "      <td>2</td>\n",
              "      <td>2</td>\n",
              "      <td>0</td>\n",
              "      <td>2</td>\n",
              "    </tr>\n",
              "    <tr>\n",
              "      <th>1</th>\n",
              "      <td>29</td>\n",
              "      <td>4</td>\n",
              "      <td>4</td>\n",
              "      <td>3</td>\n",
              "      <td>1</td>\n",
              "      <td>1</td>\n",
              "      <td>1</td>\n",
              "      <td>4</td>\n",
              "      <td>0</td>\n",
              "      <td>2</td>\n",
              "    </tr>\n",
              "    <tr>\n",
              "      <th>2</th>\n",
              "      <td>21</td>\n",
              "      <td>4</td>\n",
              "      <td>4</td>\n",
              "      <td>1</td>\n",
              "      <td>1</td>\n",
              "      <td>1</td>\n",
              "      <td>2</td>\n",
              "      <td>3</td>\n",
              "      <td>0</td>\n",
              "      <td>3</td>\n",
              "    </tr>\n",
              "    <tr>\n",
              "      <th>3</th>\n",
              "      <td>26</td>\n",
              "      <td>3</td>\n",
              "      <td>4</td>\n",
              "      <td>3</td>\n",
              "      <td>1</td>\n",
              "      <td>1</td>\n",
              "      <td>3</td>\n",
              "      <td>2</td>\n",
              "      <td>0</td>\n",
              "      <td>3</td>\n",
              "    </tr>\n",
              "    <tr>\n",
              "      <th>4</th>\n",
              "      <td>45</td>\n",
              "      <td>3</td>\n",
              "      <td>4</td>\n",
              "      <td>6</td>\n",
              "      <td>1</td>\n",
              "      <td>1</td>\n",
              "      <td>2</td>\n",
              "      <td>4</td>\n",
              "      <td>0</td>\n",
              "      <td>1</td>\n",
              "    </tr>\n",
              "  </tbody>\n",
              "</table>\n",
              "</div>"
            ],
            "text/plain": [
              "   edad_mujer  educacion_mujer  ...  exposicion_medios  metodo_anticonceptivo\n",
              "0          35                3  ...                  0                      2\n",
              "1          29                4  ...                  0                      2\n",
              "2          21                4  ...                  0                      3\n",
              "3          26                3  ...                  0                      3\n",
              "4          45                3  ...                  0                      1\n",
              "\n",
              "[5 rows x 10 columns]"
            ]
          },
          "metadata": {
            "tags": []
          },
          "execution_count": 4
        }
      ]
    },
    {
      "cell_type": "markdown",
      "metadata": {
        "id": "-ho6PmnK1fUf"
      },
      "source": [
        ""
      ]
    },
    {
      "cell_type": "markdown",
      "metadata": {
        "id": "JHDkG-wg-aA3"
      },
      "source": [
        "# Regresión Logística - Clasificación"
      ]
    },
    {
      "cell_type": "markdown",
      "metadata": {
        "id": "mp8NsXQbHWAg"
      },
      "source": [
        "Algunos detalles a tener en cuenta.\n",
        "Elección de variables a considerar en modelo\n",
        "\n",
        "1.   El Islam no acepta anticonceptivos, excepto salvar la vida de la mujer.( “Si se planifica por motivos de dinero, no es aceptable, si se hace por motivos emocionales o de salud, sí”. Eso sí, siempre que ya se haya tenido, al menos, un niño y una niña )\n",
        "2.   Ser pobre no es excusa para usar anticonceptivos (\"Pero parar de tener hijos porque no tienes dinero... Odiamos eso, estamos en contra).\n",
        "3. otra razón: la libertad de elección personal de la mujer, relegada a un segundo plano: necesita el consentimiento, cuando no la decisión, del marido y/o del rabino, en este caso.\n",
        "\n",
        "Fuente:\n",
        " https://medicamentalia.org/anticonceptivos/religion/#:~:text=El%20m%C3%A9todo%20anticonceptivo%20informal%2C%20para,%E2%80%A6%E2%80%9D%2C%20calcula%20Ousman%20M.\n",
        "\n"
      ]
    },
    {
      "cell_type": "code",
      "metadata": {
        "id": "NX6ONX7_1fuu"
      },
      "source": [
        "d_filtrado = d[['edad_mujer',\n",
        "                'educacion_mujer',\n",
        "                'educacion_hombre',\n",
        "                'numero_hijos',\n",
        "                'religion_mujer',\n",
        "                'mujer_trabaja',\n",
        "                'ocupacion_hombre',\n",
        "                'nivel_vida',\n",
        "                'exposicion_medios',\n",
        "                'metodo_anticonceptivo']].dropna().copy() # Nos quedamos con ciertos campos del data set, para facilitar el trabajo. Y para limitarlo.\n",
        "                                                  # Notar que primero aplicamos el método .dropna() para eliminar filas que tengan alguna columna con NaN \n",
        "                                                  # Ademas, el metodo copy() nos asegura que estemos creando un nuevo dataframe \n",
        "d_filtrado.rename({'edad_mujer' : 'edadmuj',\n",
        "                   'educacion_mujer' : 'educmuj',\n",
        "                   'educacion_hombre' : 'educhom',\n",
        "                   'numero_hijos' : 'hijos',\n",
        "                   'religion_mujer' : 'religmuj',\n",
        "                   'mujer_trabaja' : 'trabamuj',\n",
        "                   'ocupacion_hombre' : 'ocupahom',\n",
        "                   'nivel_vida' : 'nivelvid',\n",
        "                   'exposicion_medios' : 'exposmed',                                                                            \n",
        "                   'metodo_anticonceptivo' : 'metodoant'},\n",
        "                  axis = 1,\n",
        "                  inplace = True) # Esto toma como input un diccionario en el cual las llaves son los nombres actuales de columnas, y los valores los nombres nuevos (a los que queremos renombrar)\n",
        "                                  # axis = 1 es porque queremos renombrar columnas, y inplace=True es porque queremos \"pisar\" el dataframe al renombrarlo"
      ],
      "execution_count": 5,
      "outputs": []
    },
    {
      "cell_type": "code",
      "metadata": {
        "id": "SnGU9YGKoy_f",
        "colab": {
          "base_uri": "https://localhost:8080/",
          "height": 198
        },
        "outputId": "525e85d4-96c7-4825-cd63-5d25e90d85ef"
      },
      "source": [
        "d_filtrado.head()"
      ],
      "execution_count": 6,
      "outputs": [
        {
          "output_type": "execute_result",
          "data": {
            "text/html": [
              "<div>\n",
              "<style scoped>\n",
              "    .dataframe tbody tr th:only-of-type {\n",
              "        vertical-align: middle;\n",
              "    }\n",
              "\n",
              "    .dataframe tbody tr th {\n",
              "        vertical-align: top;\n",
              "    }\n",
              "\n",
              "    .dataframe thead th {\n",
              "        text-align: right;\n",
              "    }\n",
              "</style>\n",
              "<table border=\"1\" class=\"dataframe\">\n",
              "  <thead>\n",
              "    <tr style=\"text-align: right;\">\n",
              "      <th></th>\n",
              "      <th>edadmuj</th>\n",
              "      <th>educmuj</th>\n",
              "      <th>educhom</th>\n",
              "      <th>hijos</th>\n",
              "      <th>religmuj</th>\n",
              "      <th>trabamuj</th>\n",
              "      <th>ocupahom</th>\n",
              "      <th>nivelvid</th>\n",
              "      <th>exposmed</th>\n",
              "      <th>metodoant</th>\n",
              "    </tr>\n",
              "  </thead>\n",
              "  <tbody>\n",
              "    <tr>\n",
              "      <th>0</th>\n",
              "      <td>35</td>\n",
              "      <td>3</td>\n",
              "      <td>4</td>\n",
              "      <td>3</td>\n",
              "      <td>1</td>\n",
              "      <td>1</td>\n",
              "      <td>2</td>\n",
              "      <td>2</td>\n",
              "      <td>0</td>\n",
              "      <td>2</td>\n",
              "    </tr>\n",
              "    <tr>\n",
              "      <th>1</th>\n",
              "      <td>29</td>\n",
              "      <td>4</td>\n",
              "      <td>4</td>\n",
              "      <td>3</td>\n",
              "      <td>1</td>\n",
              "      <td>1</td>\n",
              "      <td>1</td>\n",
              "      <td>4</td>\n",
              "      <td>0</td>\n",
              "      <td>2</td>\n",
              "    </tr>\n",
              "    <tr>\n",
              "      <th>2</th>\n",
              "      <td>21</td>\n",
              "      <td>4</td>\n",
              "      <td>4</td>\n",
              "      <td>1</td>\n",
              "      <td>1</td>\n",
              "      <td>1</td>\n",
              "      <td>2</td>\n",
              "      <td>3</td>\n",
              "      <td>0</td>\n",
              "      <td>3</td>\n",
              "    </tr>\n",
              "    <tr>\n",
              "      <th>3</th>\n",
              "      <td>26</td>\n",
              "      <td>3</td>\n",
              "      <td>4</td>\n",
              "      <td>3</td>\n",
              "      <td>1</td>\n",
              "      <td>1</td>\n",
              "      <td>3</td>\n",
              "      <td>2</td>\n",
              "      <td>0</td>\n",
              "      <td>3</td>\n",
              "    </tr>\n",
              "    <tr>\n",
              "      <th>4</th>\n",
              "      <td>45</td>\n",
              "      <td>3</td>\n",
              "      <td>4</td>\n",
              "      <td>6</td>\n",
              "      <td>1</td>\n",
              "      <td>1</td>\n",
              "      <td>2</td>\n",
              "      <td>4</td>\n",
              "      <td>0</td>\n",
              "      <td>1</td>\n",
              "    </tr>\n",
              "  </tbody>\n",
              "</table>\n",
              "</div>"
            ],
            "text/plain": [
              "   edadmuj  educmuj  educhom  hijos  ...  ocupahom  nivelvid  exposmed  metodoant\n",
              "0       35        3        4      3  ...         2         2         0          2\n",
              "1       29        4        4      3  ...         1         4         0          2\n",
              "2       21        4        4      1  ...         2         3         0          3\n",
              "3       26        3        4      3  ...         3         2         0          3\n",
              "4       45        3        4      6  ...         2         4         0          1\n",
              "\n",
              "[5 rows x 10 columns]"
            ]
          },
          "metadata": {
            "tags": []
          },
          "execution_count": 6
        }
      ]
    },
    {
      "cell_type": "markdown",
      "metadata": {
        "id": "qdkQAYW97rFI"
      },
      "source": [
        "Teniendo en cuenta que queremos saber si entre No usa (1) vs. Largo o corto plazo (2 o 3) y predecir la variable binaria resultante, vamos a llevar a una categoría binaria la columna \"metodoant\".\n",
        "\n",
        "Generemos una nueva columna que sea \"UsaNousa\" que de cuenta de esto.\n",
        "Para ello el valor de columna UsaNOusa estará dada por\n",
        "\n",
        "*   = 0 indicará que utiliza métodos anticonceptivos y\n",
        "*   = 1 indicará que NO utiliza métodos anticonceptivos\n",
        "\n"
      ]
    },
    {
      "cell_type": "code",
      "metadata": {
        "colab": {
          "base_uri": "https://localhost:8080/"
        },
        "id": "UwxUfoje8HpP",
        "outputId": "36403c53-23f4-416f-ab1e-95d1705775e6"
      },
      "source": [
        "d_filtrado['UsaNousa'] = 1 # empezamos con una columna llena de 1. \n",
        "indice =  d_filtrado['metodoant'] > 1  # esto me da los valores del indice para los cuales ha utilizado metodo anticonceptivo mayor a 1\n",
        "d_filtrado.loc[indice, 'UsaNousa'] = 0 # entonces para esos valores del indice pongo 0, porque ha utilizado métodos anticonceptivos\n",
        "\n",
        "d_filtrado['UsaNousa'].value_counts()"
      ],
      "execution_count": 7,
      "outputs": [
        {
          "output_type": "execute_result",
          "data": {
            "text/plain": [
              "0    165\n",
              "1    131\n",
              "Name: UsaNousa, dtype: int64"
            ]
          },
          "metadata": {
            "tags": []
          },
          "execution_count": 7
        }
      ]
    },
    {
      "cell_type": "markdown",
      "metadata": {
        "id": "21jpNhWnjf3J"
      },
      "source": [
        "Para probar el modelo, utilizaré tres campos: Religion, Cantidad de hijos y educacion del hombre"
      ]
    },
    {
      "cell_type": "code",
      "metadata": {
        "colab": {
          "base_uri": "https://localhost:8080/",
          "height": 198
        },
        "id": "UIP60lNunqOv",
        "outputId": "4a92c005-278d-4510-84a2-931c18b0aec0"
      },
      "source": [
        "d_filtrado.head()"
      ],
      "execution_count": 8,
      "outputs": [
        {
          "output_type": "execute_result",
          "data": {
            "text/html": [
              "<div>\n",
              "<style scoped>\n",
              "    .dataframe tbody tr th:only-of-type {\n",
              "        vertical-align: middle;\n",
              "    }\n",
              "\n",
              "    .dataframe tbody tr th {\n",
              "        vertical-align: top;\n",
              "    }\n",
              "\n",
              "    .dataframe thead th {\n",
              "        text-align: right;\n",
              "    }\n",
              "</style>\n",
              "<table border=\"1\" class=\"dataframe\">\n",
              "  <thead>\n",
              "    <tr style=\"text-align: right;\">\n",
              "      <th></th>\n",
              "      <th>edadmuj</th>\n",
              "      <th>educmuj</th>\n",
              "      <th>educhom</th>\n",
              "      <th>hijos</th>\n",
              "      <th>religmuj</th>\n",
              "      <th>trabamuj</th>\n",
              "      <th>ocupahom</th>\n",
              "      <th>nivelvid</th>\n",
              "      <th>exposmed</th>\n",
              "      <th>metodoant</th>\n",
              "      <th>UsaNousa</th>\n",
              "    </tr>\n",
              "  </thead>\n",
              "  <tbody>\n",
              "    <tr>\n",
              "      <th>0</th>\n",
              "      <td>35</td>\n",
              "      <td>3</td>\n",
              "      <td>4</td>\n",
              "      <td>3</td>\n",
              "      <td>1</td>\n",
              "      <td>1</td>\n",
              "      <td>2</td>\n",
              "      <td>2</td>\n",
              "      <td>0</td>\n",
              "      <td>2</td>\n",
              "      <td>0</td>\n",
              "    </tr>\n",
              "    <tr>\n",
              "      <th>1</th>\n",
              "      <td>29</td>\n",
              "      <td>4</td>\n",
              "      <td>4</td>\n",
              "      <td>3</td>\n",
              "      <td>1</td>\n",
              "      <td>1</td>\n",
              "      <td>1</td>\n",
              "      <td>4</td>\n",
              "      <td>0</td>\n",
              "      <td>2</td>\n",
              "      <td>0</td>\n",
              "    </tr>\n",
              "    <tr>\n",
              "      <th>2</th>\n",
              "      <td>21</td>\n",
              "      <td>4</td>\n",
              "      <td>4</td>\n",
              "      <td>1</td>\n",
              "      <td>1</td>\n",
              "      <td>1</td>\n",
              "      <td>2</td>\n",
              "      <td>3</td>\n",
              "      <td>0</td>\n",
              "      <td>3</td>\n",
              "      <td>0</td>\n",
              "    </tr>\n",
              "    <tr>\n",
              "      <th>3</th>\n",
              "      <td>26</td>\n",
              "      <td>3</td>\n",
              "      <td>4</td>\n",
              "      <td>3</td>\n",
              "      <td>1</td>\n",
              "      <td>1</td>\n",
              "      <td>3</td>\n",
              "      <td>2</td>\n",
              "      <td>0</td>\n",
              "      <td>3</td>\n",
              "      <td>0</td>\n",
              "    </tr>\n",
              "    <tr>\n",
              "      <th>4</th>\n",
              "      <td>45</td>\n",
              "      <td>3</td>\n",
              "      <td>4</td>\n",
              "      <td>6</td>\n",
              "      <td>1</td>\n",
              "      <td>1</td>\n",
              "      <td>2</td>\n",
              "      <td>4</td>\n",
              "      <td>0</td>\n",
              "      <td>1</td>\n",
              "      <td>1</td>\n",
              "    </tr>\n",
              "  </tbody>\n",
              "</table>\n",
              "</div>"
            ],
            "text/plain": [
              "   edadmuj  educmuj  educhom  hijos  ...  nivelvid  exposmed  metodoant  UsaNousa\n",
              "0       35        3        4      3  ...         2         0          2         0\n",
              "1       29        4        4      3  ...         4         0          2         0\n",
              "2       21        4        4      1  ...         3         0          3         0\n",
              "3       26        3        4      3  ...         2         0          3         0\n",
              "4       45        3        4      6  ...         4         0          1         1\n",
              "\n",
              "[5 rows x 11 columns]"
            ]
          },
          "metadata": {
            "tags": []
          },
          "execution_count": 8
        }
      ]
    },
    {
      "cell_type": "code",
      "metadata": {
        "colab": {
          "base_uri": "https://localhost:8080/",
          "height": 315
        },
        "id": "FiZCEzq0tF7S",
        "outputId": "d6287ad8-a0e5-4885-e048-73a2bc896846"
      },
      "source": [
        "fig, axs = plt.subplots(nrows=2, ncols=6, figsize=(24,7))\n",
        "for i in np.arange(0,6,1):\n",
        "    sbn.histplot(data=d_filtrado, x=d_filtrado.columns[i], hue=y, ax = axs[0,i])\n",
        "    axs[0,i].set_xlabel(d_filtrado.columns[i])\n",
        "    sbn.histplot(data=d_filtrado, x=d_filtrado.columns[i+5], hue=y, ax=axs[1,i])\n",
        "    axs[1,i].set_xlabel(d_filtrado.columns[i+5])\n"
      ],
      "execution_count": 45,
      "outputs": [
        {
          "output_type": "display_data",
          "data": {
            "image/png": "[encoded data removed]",
            "text/plain": [
              "<Figure size 1728x504 with 12 Axes>"
            ]
          },
          "metadata": {
            "tags": [],
            "needs_background": "light"
          }
        }
      ]
    },
    {
      "cell_type": "markdown",
      "metadata": {
        "id": "0ojrAuxGwBiC"
      },
      "source": [
        "# Modelo 1"
      ]
    },
    {
      "cell_type": "markdown",
      "metadata": {
        "id": "GjVCR5upwSXa"
      },
      "source": [
        "d_filtrado.rename({'edad_mujer' : 'edadmuj',\n",
        "                   'educacion_mujer' : 'educmuj',\n",
        "                   'educacion_hombre' : 'educhom',\n",
        "                   'numero_hijos' : 'hijos',\n",
        "                   'religion_mujer' : 'religmuj',\n",
        "                   'mujer_trabaja' : 'trabamuj',\n",
        "                   'ocupacion_hombre' : 'ocupahom',\n",
        "                   'nivel_vida' : 'nivelvid',\n",
        "                   'exposicion_medios' : 'exposmed',                                                                            \n",
        "                   'metodo_anticonceptivo' : 'metodoant'},"
      ]
    },
    {
      "cell_type": "markdown",
      "metadata": {
        "id": "0jX7n-z0UZJr"
      },
      "source": [
        "Defino la función necesaria para calcular el balanced accuracy."
      ]
    },
    {
      "cell_type": "code",
      "metadata": {
        "id": "EyB4FET5xqeh"
      },
      "source": [
        "def balanced_accuracy(cm): # funcion para calcular la \"balanced accuracy\"\n",
        "  sensibilidad = cm[1,1]/(cm[1,1]+cm[0,1])\n",
        "  especificidad = cm[0,0]/(cm[1,0]+cm[0,0])\n",
        "  return [sensibilidad, especificidad, (sensibilidad + especificidad)/2]"
      ],
      "execution_count": 21,
      "outputs": []
    },
    {
      "cell_type": "markdown",
      "metadata": {
        "id": "3wfoeKQvyZDw"
      },
      "source": [
        "Ahora vamos a usar cinco variables, primero sin ningún tipo de transformación"
      ]
    },
    {
      "cell_type": "code",
      "metadata": {
        "colab": {
          "base_uri": "https://localhost:8080/"
        },
        "id": "LQn9IZqOwFgo",
        "outputId": "f6dc6eac-8eb6-4121-8d03-55ad9c3794f2"
      },
      "source": [
        "from sklearn.preprocessing import MinMaxScaler\n",
        "\n",
        "# Definamos la matriz X\n",
        "campos = ['edadmuj', 'religmuj', 'hijos', 'educmuj', 'ocupahom'] # Lista que contiene las features de interés.\n",
        "X = d_filtrado[campos].values # En este caso no hace falta reshapear, porque ya tiene la forma que queremos\n",
        "print(X.shape) # Como vemos, es una matriz de 1054 filas y 2 columnas\n",
        "y = d_filtrado['UsaNousa'] # Nuestra etiqueta sigue siende la misma de antes\n",
        "\n",
        "scaler = MinMaxScaler() # primero creo un objeto MinMaxScaler. Por defecto, esto normaliza los datos al intervalo [0,1]\n",
        "scaler.fit(X) # encuentro los parametros para el escaleo\n",
        "X = scaler.transform(X) # aplico la transformacion\n",
        "\n",
        "regLog = LogisticRegression(penalty = 'none', class_weight='balanced', max_iter=10000) # Inicializamos nuevamente el modelo\n",
        "regLog.fit(X, y) # Ajustamos el modelo con los parámetros\n",
        "score = regLog.score(X,y) # Calculamos el score\n",
        "\n",
        "ypred = regLog.predict(X) # con esto obtengo la predicción de las etiquetas en base a mis datos\n",
        "cm = confusion_matrix(ypred, y) # primera entrada son las etiquetas predichas, segunda son las reales\n",
        "metricas = balanced_accuracy(cm)\n",
        "\n",
        "print('El score del modelo es de: {}'.format(round(score,4))) # Le pido que printee el score del modelo. Le pido que lo haga con 4 cifras significativas\n",
        "print('Matriz de confusion del modelo es:')\n",
        "print(cm)\n",
        "print('Sensibilidad del modelo es de: {}'.format(round(metricas[0],4)))  \n",
        "print('Especificidad del modelo es de: {}'.format(round(metricas[1],4)))  \n",
        "print('BA del modelo es de: {}'.format(round(metricas[2],4))) "
      ],
      "execution_count": 43,
      "outputs": [
        {
          "output_type": "stream",
          "text": [
            "(296, 5)\n",
            "El score del modelo es de: 0.7264\n",
            "Matriz de confusion del modelo es:\n",
            "[[121  37]\n",
            " [ 44  94]]\n",
            "Sensibilidad del modelo es de: 0.7176\n",
            "Especificidad del modelo es de: 0.7333\n",
            "BA del modelo es de: 0.7254\n"
          ],
          "name": "stdout"
        }
      ]
    },
    {
      "cell_type": "markdown",
      "metadata": {
        "id": "5BVGKTjLyJwo"
      },
      "source": [
        "vamos a empezar a aumentar el espacio de features, primero agregando los términos cuadráticos y cúbicos:"
      ]
    },
    {
      "cell_type": "code",
      "metadata": {
        "colab": {
          "base_uri": "https://localhost:8080/"
        },
        "id": "_7tcx9mRyJLZ",
        "outputId": "3a95cb9d-6575-4e15-b4fa-9386b0734722"
      },
      "source": [
        "X_1 = np.concatenate((X, X**2,X**3,X**4, X**5), axis=1)\n",
        "\n",
        "scaler = MinMaxScaler() # primero creo un objeto MinMaxScaler. Por defecto, esto normaliza los datos al intervalo [0,1]\n",
        "scaler.fit(X_1) # encuentro los parametros para el escaleo\n",
        "X_1 = scaler.transform(X_1) # aplico la transformacion\n",
        "\n",
        "regLog_1 = LogisticRegression(penalty = 'none', class_weight='balanced', max_iter=10000) # Inicializamos nuevamente el modelo. max_iter es la cantidad de iteraciones maximas del algoritmo de optimizacion de parametros antes de detenerse.\n",
        "regLog_1.fit(X_1, y) # Ajustamos el modelo con los parámetros\n",
        "score = regLog_1.score(X_1,y) # Calculamos el score\n",
        "\n",
        "ypred = regLog_1.predict(X_1) # con esto obtengo la predicción de las etiquetas en base a mis datos\n",
        "cm = confusion_matrix(ypred, y) # primera entrada son las etiquetas predichas, segunda son las reales\n",
        "metricas = balanced_accuracy(cm)\n",
        "\n",
        "print('El score del modelo es de: {}'.format(round(score,4))) # Le pido que printee el score del modelo. Le pido que lo haga con 4 cifras significativas\n",
        "print('Matriz de confusion del modelo es:')\n",
        "print(cm)\n",
        "print('Sensibilidad del modelo es de: {}'.format(round(metricas[0],4)))  \n",
        "print('Especificidad del modelo es de: {}'.format(round(metricas[1],4)))  \n",
        "print('BA del modelo es de: {}'.format(round(metricas[2],4))) "
      ],
      "execution_count": 23,
      "outputs": [
        {
          "output_type": "stream",
          "text": [
            "El score del modelo es de: 0.7331\n",
            "Matriz de confusion del modelo es:\n",
            "[[126  40]\n",
            " [ 39  91]]\n",
            "Sensibilidad del modelo es de: 0.6947\n",
            "Especificidad del modelo es de: 0.7636\n",
            "BA del modelo es de: 0.7291\n"
          ],
          "name": "stdout"
        }
      ]
    },
    {
      "cell_type": "markdown",
      "metadata": {
        "id": "8ji4hE-Z4z_q"
      },
      "source": [
        "# Train - test Split"
      ]
    },
    {
      "cell_type": "markdown",
      "metadata": {
        "id": "kICVoDlH30zR"
      },
      "source": [
        "Una forma de hacer esto es separar parte de los datos para entrenar el modelo (obtener los parámetros) y dejar otra parte para evaluar la performance del modelo. Al hacer eso, tengo las siguientes posibilidades,\n",
        "\n",
        "\n",
        "1.   La performance es baja en el set de entrenamiento y baja en el set de evaluación. En este caso, necesito o más datos, o más features (puedo probar agregar features que ya tenía transformándolos).\n",
        "2.   La performance es alta en el set de entrenamiento y baja en el set de evaluación. En este caso, estoy sobreajustando. Puedo intentar resolver esto sumando más datos a mi modelo, o bien aplicando regularización.\n",
        "3. La performance es alta en el set de entrenamiento y alta en el set de evaluación. El caso ideal: aprendí parámetros que me sirven para generalizar a datos nuevos sin sobreajustar.\n"
      ]
    },
    {
      "cell_type": "code",
      "metadata": {
        "colab": {
          "base_uri": "https://localhost:8080/"
        },
        "id": "9vmsOBoS312I",
        "outputId": "1bf22d8f-0829-457b-ab70-3889effe1be9"
      },
      "source": [
        "from sklearn.model_selection import train_test_split\n",
        "\n",
        "X_train, X_test, y_train, y_test = train_test_split(X, y, test_size=0.3)\n",
        "\n",
        "scaler = MinMaxScaler() # primero creo un objeto MinMaxScaler. Por defecto, esto normaliza los datos al intervalo [0,1]\n",
        "scaler.fit(X_train) # encuentro los parametros para el escaleo\n",
        "X_train = scaler.transform(X_train) # aplico la transformacion\n",
        "\n",
        "scaler = MinMaxScaler() # primero creo un objeto MinMaxScaler. Por defecto, esto normaliza los datos al intervalo [0,1]\n",
        "scaler.fit(X_test) # encuentro los parametros para el escaleo\n",
        "X_test = scaler.transform(X_test) # aplico la transformacion\n",
        "\n",
        "#### IMPORTANTE: HAGO LA NORMALIZACION DE LOS DATOS POR SEPARADO EN LOS SETS DE TRAIN Y TEST\n",
        "\n",
        "regLog = LogisticRegression(penalty = 'none', class_weight='balanced', max_iter=10000) # Inicializamos nuevamente el modelo\n",
        "regLog.fit(X_train, y_train) # Ajustamos el modelo con los parámetros\n",
        "\n",
        "score_train = regLog.score(X_train,y_train) # Calculamos el score\n",
        "ypred_train = regLog.predict(X_train) # con esto obtengo la predicción de las etiquetas en base a mis datos\n",
        "cm_train = confusion_matrix(ypred_train, y_train) # primera entrada son las etiquetas predichas, segunda son las reales\n",
        "metricas_train = balanced_accuracy(cm_train)\n",
        "\n",
        "print('Para TRAIN set:')\n",
        "print('El score del modelo es de: {}'.format(round(score_train,4))) # Le pido que printee el score del modelo. Le pido que lo haga con 4 cifras significativas\n",
        "print('Matriz de confusion del modelo es:')\n",
        "print(cm_train)\n",
        "print('Sensibilidad del modelo es de: {}'.format(round(metricas_train[0],4)))  \n",
        "print('Especificidad del modelo es de: {}'.format(round(metricas_train[1],4)))  \n",
        "print('BA del modelo es de: {}'.format(round(metricas_train[2],4))) \n",
        "print('\\n')\n",
        "\n",
        "score_test= regLog.score(X_test,y_test) # Calculamos el score\n",
        "ypred_test= regLog.predict(X_test) # con esto obtengo la predicción de las etiquetas en base a mis datos\n",
        "cm_test = confusion_matrix(ypred_test, y_test) # primera entrada son las etiquetas predichas, segunda son las reales\n",
        "metricas_test = balanced_accuracy(cm_test)\n",
        "\n",
        "\n",
        "print('Para TEST set:')\n",
        "print('El score del modelo es de: {}'.format(round(score_test,4))) # Le pido que printee el score del modelo. Le pido que lo haga con 4 cifras significativas\n",
        "print('Matriz de confusion del modelo es:')\n",
        "print(cm_test)\n",
        "print('Sensibilidad del modelo es de: {}'.format(round(metricas_test[0],4)))  \n",
        "print('Especificidad del modelo es de: {}'.format(round(metricas_test[1],4)))  \n",
        "print('BA del modelo es de: {}'.format(round(metricas_test[2],4))) "
      ],
      "execution_count": 35,
      "outputs": [
        {
          "output_type": "stream",
          "text": [
            "Para TRAIN set:\n",
            "El score del modelo es de: 0.7198\n",
            "Matriz de confusion del modelo es:\n",
            "[[86 26]\n",
            " [32 63]]\n",
            "Sensibilidad del modelo es de: 0.7079\n",
            "Especificidad del modelo es de: 0.7288\n",
            "BA del modelo es de: 0.7183\n",
            "\n",
            "\n",
            "Para TEST set:\n",
            "El score del modelo es de: 0.6966\n",
            "Matriz de confusion del modelo es:\n",
            "[[39 19]\n",
            " [ 8 23]]\n",
            "Sensibilidad del modelo es de: 0.5476\n",
            "Especificidad del modelo es de: 0.8298\n",
            "BA del modelo es de: 0.6887\n"
          ],
          "name": "stdout"
        }
      ]
    },
    {
      "cell_type": "markdown",
      "metadata": {
        "id": "o9zxPBgI4pyB"
      },
      "source": [
        "¿Y si vamos al caso con features polinómicos agregados?"
      ]
    },
    {
      "cell_type": "code",
      "metadata": {
        "colab": {
          "base_uri": "https://localhost:8080/"
        },
        "id": "DD5DPFVy5c-5",
        "outputId": "360e8154-7686-400c-8d0d-7dc9fdcc16b8"
      },
      "source": [
        "# Definamos la matriz X\n",
        "campos = ['edadmuj', 'religmuj', 'hijos', 'educmuj', 'ocupahom'] # Lista que contiene las features de interés.\n",
        "X = d_filtrado[campos].values # En este caso no hace falta reshapear, porque ya tiene la forma que queremos\n",
        "\n",
        "X_temp = X\n",
        "for i in np.arange(2,5):\n",
        "    X_temp = np.concatenate((X_temp,X**i), axis=1)\n",
        "X_1 = X_temp\n",
        " \n",
        "X_train, X_test, y_train, y_test = train_test_split(X_1, y, test_size=0.3)\n",
        "\n",
        "scaler = MinMaxScaler() # primero creo un objeto MinMaxScaler. Por defecto, esto normaliza los datos al intervalo [0,1]\n",
        "scaler.fit(X_train) # encuentro los parametros para el escaleo\n",
        "X_train = scaler.transform(X_train) # aplico la transformacion\n",
        "\n",
        "scaler = MinMaxScaler() # primero creo un objeto MinMaxScaler. Por defecto, esto normaliza los datos al intervalo [0,1]\n",
        "scaler.fit(X_test) # encuentro los parametros para el escaleo\n",
        "X_test = scaler.transform(X_test) # aplico la transformacion\n",
        "\n",
        "regLog_1 = LogisticRegression(penalty = 'none', class_weight='balanced', max_iter=50000) # Inicializamos nuevamente el modelo\n",
        "regLog_1.fit(X_train, y_train) # Ajustamos el modelo con los parámetros\n",
        "\n",
        "score_train = regLog_1.score(X_train,y_train) # Calculamos el score\n",
        "ypred_train = regLog_1.predict(X_train) # con esto obtengo la predicción de las etiquetas en base a mis datos\n",
        "cm_train = confusion_matrix(ypred_train, y_train) # primera entrada son las etiquetas predichas, segunda son las reales\n",
        "metricas_train = balanced_accuracy(cm_train)\n",
        "\n",
        "print('Para TRAIN set:')\n",
        "print('El score del modelo es de: {}'.format(round(score_train,4))) # Le pido que printee el score del modelo. Le pido que lo haga con 4 cifras significativas\n",
        "print('Matriz de confusion del modelo es:')\n",
        "print(cm_train)\n",
        "print('Sensibilidad del modelo es de: {}'.format(round(metricas_train[0],4)))  \n",
        "print('Especificidad del modelo es de: {}'.format(round(metricas_train[1],4)))  \n",
        "print('BA del modelo es de: {}'.format(round(metricas_train[2],4))) \n",
        "print('\\n')\n",
        "\n",
        "score_test= regLog_1.score(X_test,y_test) # Calculamos el score\n",
        "ypred_test= regLog_1.predict(X_test) # con esto obtengo la predicción de las etiquetas en base a mis datos\n",
        "cm_test = confusion_matrix(ypred_test, y_test) # primera entrada son las etiquetas predichas, segunda son las reales\n",
        "metricas_test = balanced_accuracy(cm_test)\n",
        "\n",
        "\n",
        "print('Para TEST set:')\n",
        "print('El score del modelo es de: {}'.format(round(score_test,4))) # Le pido que printee el score del modelo. Le pido que lo haga con 4 cifras significativas\n",
        "print('Matriz de confusion del modelo es:')\n",
        "print(cm_test)\n",
        "print('Sensibilidad del modelo es de: {}'.format(round(metricas_test[0],4)))  \n",
        "print('Especificidad del modelo es de: {}'.format(round(metricas_test[1],4)))  \n",
        "print('BA del modelo es de: {}'.format(round(metricas_test[2],4))) "
      ],
      "execution_count": 36,
      "outputs": [
        {
          "output_type": "stream",
          "text": [
            "Para TRAIN set:\n",
            "El score del modelo es de: 0.715\n",
            "Matriz de confusion del modelo es:\n",
            "[[87 27]\n",
            " [32 61]]\n",
            "Sensibilidad del modelo es de: 0.6932\n",
            "Especificidad del modelo es de: 0.7311\n",
            "BA del modelo es de: 0.7121\n",
            "\n",
            "\n",
            "Para TEST set:\n",
            "El score del modelo es de: 0.6404\n",
            "Matriz de confusion del modelo es:\n",
            "[[27 13]\n",
            " [19 30]]\n",
            "Sensibilidad del modelo es de: 0.6977\n",
            "Especificidad del modelo es de: 0.587\n",
            "BA del modelo es de: 0.6423\n"
          ],
          "name": "stdout"
        }
      ]
    },
    {
      "cell_type": "markdown",
      "metadata": {
        "id": "4QIU98p36VXJ"
      },
      "source": [
        ""
      ]
    },
    {
      "cell_type": "code",
      "metadata": {
        "colab": {
          "base_uri": "https://localhost:8080/"
        },
        "id": "zHIfoBg46VwY",
        "outputId": "a22e7c4c-07d8-462c-92c5-5259e683efb1"
      },
      "source": [
        "# Definamos la matriz X\n",
        "campos = ['edadmuj', 'religmuj', 'hijos', 'educmuj', 'ocupahom'] # Lista que contiene las features de interés.\n",
        "X = d_filtrado[campos].values # En este caso no hace falta reshapear, porque ya tiene la forma que queremos\n",
        "\n",
        "\n",
        "X_temp = X\n",
        "for i in np.arange(2,5):\n",
        "    X_temp = np.concatenate((X_temp,X**i), axis=1)\n",
        "X_1 = X_temp\n",
        " \n",
        "\n",
        "X_train, X_test, y_train, y_test = train_test_split(X_1, y, test_size=0.3)\n",
        "\n",
        "scaler = MinMaxScaler() # primero creo un objeto MinMaxScaler. Por defecto, esto normaliza los datos al intervalo [0,1]\n",
        "scaler.fit(X_train) # encuentro los parametros para el escaleo\n",
        "X_train = scaler.transform(X_train) # aplico la transformacion\n",
        "\n",
        "scaler = MinMaxScaler() # primero creo un objeto MinMaxScaler. Por defecto, esto normaliza los datos al intervalo [0,1]\n",
        "scaler.fit(X_test) # encuentro los parametros para el escaleo\n",
        "X_test = scaler.transform(X_test) # aplico la transformacion\n",
        "\n",
        "regLog_1 = LogisticRegression(penalty = 'l2', class_weight='balanced', max_iter=10000) # Inicializamos nuevamente el modelo\n",
        "regLog_1.fit(X_train, y_train) # Ajustamos el modelo con los parámetros\n",
        "\n",
        "score_train = regLog_1.score(X_train,y_train) # Calculamos el score\n",
        "ypred_train = regLog_1.predict(X_train) # con esto obtengo la predicción de las etiquetas en base a mis datos\n",
        "cm_train = confusion_matrix(ypred_train, y_train) # primera entrada son las etiquetas predichas, segunda son las reales\n",
        "metricas_train = balanced_accuracy(cm_train)\n",
        "\n",
        "print('Para TRAIN set:')\n",
        "print('El score del modelo es de: {}'.format(round(score_train,4))) # Le pido que printee el score del modelo. Le pido que lo haga con 4 cifras significativas\n",
        "print('Matriz de confusion del modelo es:')\n",
        "print(cm_train)\n",
        "print('Sensibilidad del modelo es de: {}'.format(round(metricas_train[0],4)))  \n",
        "print('Especificidad del modelo es de: {}'.format(round(metricas_train[1],4)))  \n",
        "print('BA del modelo es de: {}'.format(round(metricas_train[2],4))) \n",
        "print('\\n')\n",
        "\n",
        "score_test= regLog_1.score(X_test,y_test) # Calculamos el score\n",
        "ypred_test= regLog_1.predict(X_test) # con esto obtengo la predicción de las etiquetas en base a mis datos\n",
        "cm_test = confusion_matrix(ypred_test, y_test) # primera entrada son las etiquetas predichas, segunda son las reales\n",
        "metricas_test = balanced_accuracy(cm_test)\n",
        "\n",
        "\n",
        "print('Para TEST set:')\n",
        "print('El score del modelo es de: {}'.format(round(score_test,4))) # Le pido que printee el score del modelo. Le pido que lo haga con 4 cifras significativas\n",
        "print('Matriz de confusion del modelo es:')\n",
        "print(cm_test)\n",
        "print('Sensibilidad del modelo es de: {}'.format(round(metricas_test[0],4)))  \n",
        "print('Especificidad del modelo es de: {}'.format(round(metricas_test[1],4)))  \n",
        "print('BA del modelo es de: {}'.format(round(metricas_test[2],4))) "
      ],
      "execution_count": 37,
      "outputs": [
        {
          "output_type": "stream",
          "text": [
            "Para TRAIN set:\n",
            "El score del modelo es de: 0.686\n",
            "Matriz de confusion del modelo es:\n",
            "[[81 27]\n",
            " [38 61]]\n",
            "Sensibilidad del modelo es de: 0.6932\n",
            "Especificidad del modelo es de: 0.6807\n",
            "BA del modelo es de: 0.6869\n",
            "\n",
            "\n",
            "Para TEST set:\n",
            "El score del modelo es de: 0.6854\n",
            "Matriz de confusion del modelo es:\n",
            "[[31 13]\n",
            " [15 30]]\n",
            "Sensibilidad del modelo es de: 0.6977\n",
            "Especificidad del modelo es de: 0.6739\n",
            "BA del modelo es de: 0.6858\n"
          ],
          "name": "stdout"
        }
      ]
    },
    {
      "cell_type": "markdown",
      "metadata": {
        "id": "yu3ioXJj_4A_"
      },
      "source": [
        "# Optimización de Hiperparámetros"
      ]
    },
    {
      "cell_type": "markdown",
      "metadata": {
        "id": "BqJlRaAEALh4"
      },
      "source": [
        "Tiene sentido hacer la siguiente pregunta: ¿para qué elección de hiperparámetros **maximizo** la performance del clasificador en el dataset de evaluación (test)?\n",
        "\n",
        "Vamos a proponer la siguiente forma de abordar este problema:\n",
        "\n",
        "1. Generamos una función que entrene y evalue el clasificador usando un train-test split, que incorpore como input los hiperparámetros\n",
        "2. Para cada elección del par de hiperparámetros, repetimos este procedimiento unas cuantas (>100) veces y nos quedamos con la performance promedio. Esto es necesario porque el train-test split es aleatorio.\n",
        "3. Repetimos para todas las combinaciones de nuestros hiperparámetros y encontramos aquella que maximiza la performance del clasificador."
      ]
    },
    {
      "cell_type": "code",
      "metadata": {
        "id": "WfsHZQ_8_9GJ"
      },
      "source": [
        "def classifier(X,y,n,c):  # X es la matriz de features, y los labels, n-1 la potencia máxima en la que aparecerán los features, C es la constante de regularización\n",
        "\n",
        "  X_temp = X\n",
        "  for i in np.arange(2,n):\n",
        "    X_temp = np.concatenate((X_temp,X**i), axis=1)\n",
        "  X = X_temp\n",
        " \n",
        "  \n",
        "  X_train, X_test, y_train, y_test = train_test_split(X, y, test_size=0.3)\n",
        "\n",
        "  scaler = MinMaxScaler() # primero creo un objeto MinMaxScaler. Por defecto, esto normaliza los datos al intervalo [0,1]\n",
        "  scaler.fit(X_train) # encuentro los parametros para el escaleo\n",
        "  X_train = scaler.transform(X_train) # aplico la transformacion\n",
        "\n",
        "  scaler = MinMaxScaler() # primero creo un objeto MinMaxScaler. Por defecto, esto normaliza los datos al intervalo [0,1]\n",
        "  scaler.fit(X_test) # encuentro los parametros para el escaleo\n",
        "  X_test = scaler.transform(X_test) # aplico la transformacion\n",
        "\n",
        "  regLog = LogisticRegression(penalty = 'l2', class_weight='balanced', C=c, max_iter=10000) \n",
        "  regLog.fit(X_train, y_train) \n",
        "  \n",
        "  ypred_train = regLog.predict(X_train) # con esto obtengo la predicción de las etiquetas en base a mis datos\n",
        "  cm_train = confusion_matrix(ypred_train, y_train) # primera entrada son las etiquetas predichas, segunda son las reales\n",
        "  metricas_train = balanced_accuracy(cm_train)\n",
        "\n",
        "  ypred_test = regLog.predict(X_test) # con esto obtengo la predicción de las etiquetas en base a mis datos\n",
        "  cm_test= confusion_matrix(ypred_test, y_test) # primera entrada son las etiquetas predichas, segunda son las reales\n",
        "  metricas_test = balanced_accuracy(cm_test)\n",
        "\n",
        "  return metricas_train[2], metricas_test[2]"
      ],
      "execution_count": 47,
      "outputs": []
    },
    {
      "cell_type": "markdown",
      "metadata": {
        "id": "y7BnddelArAp"
      },
      "source": [
        "Probando algunos casos particulares y veamos como depende del azar."
      ]
    },
    {
      "cell_type": "code",
      "metadata": {
        "colab": {
          "base_uri": "https://localhost:8080/"
        },
        "id": "uU694UfUAlbs",
        "outputId": "cc79d876-f826-49be-f63b-aa851e9fffca"
      },
      "source": [
        "campos = ['edadmuj', 'religmuj', 'hijos', 'educmuj', 'ocupahom'] # Lista que contiene las features de interés.\n",
        "X = d_filtrado[campos].values # En este caso no hace falta reshapear, porque ya tiene la forma que queremos\n",
        "y = d_filtrado['UsaNousa'] # Nuestra etiqueta sigue siende la misma de antes\n",
        "\n",
        "n_values = np.arange(1,5) # rango de potencias maximas \n",
        "c_values = np.arange(0.2,5,0.2) # rango de constantes de regularizacion\n",
        "\n",
        "iterations = 100 # esto se puede poner en 100 para que no tarde mil años durante la clase\n",
        "\n",
        "mean_BA_train = np.zeros((len(n_values),len(c_values))) #  los arrays con los balanced accuracy para cada combinacion de hiperparametros, para train y test\n",
        "mean_BA_test = np.zeros((len(n_values),len(c_values)))\n",
        "\n",
        "for xx,n in enumerate(n_values): # itero sobre n\n",
        "    for yy,c in enumerate(c_values): # itero sobre c\n",
        "      BA_test_temp = [] # variables temporales para ir poniendo los resultados a lo largo de las iteraciones\n",
        "      BA_train_temp = []\n",
        "      print([n,c]) # esto es para los ansiosos\n",
        "      for it in np.arange(iterations): # itero\n",
        "          BA_train, BA_test = classifier(X,y,n,c)  # calculo las balanced accuracy para esos hiperparametros\n",
        "          BA_test_temp.append(BA_test) # agrego a las variables temporales\n",
        "          BA_train_temp.append(BA_train)\n",
        "      mean_BA_train[xx,yy] = np.mean(BA_train_temp) # calculo promedios\n",
        "      mean_BA_test[xx,yy] = np.mean(BA_test_temp)"
      ],
      "execution_count": 51,
      "outputs": [
        {
          "output_type": "stream",
          "text": [
            "[1, 0.2]\n",
            "[1, 0.4]\n",
            "[1, 0.6000000000000001]\n",
            "[1, 0.8]\n",
            "[1, 1.0]\n",
            "[1, 1.2]\n",
            "[1, 1.4000000000000001]\n",
            "[1, 1.6]\n",
            "[1, 1.8]\n",
            "[1, 2.0]\n",
            "[1, 2.2]\n",
            "[1, 2.4000000000000004]\n",
            "[1, 2.6000000000000005]\n",
            "[1, 2.8000000000000003]\n",
            "[1, 3.0000000000000004]\n",
            "[1, 3.2]\n",
            "[1, 3.4000000000000004]\n",
            "[1, 3.6000000000000005]\n",
            "[1, 3.8000000000000003]\n",
            "[1, 4.0]\n",
            "[1, 4.2]\n",
            "[1, 4.4]\n",
            "[1, 4.6000000000000005]\n",
            "[1, 4.800000000000001]\n",
            "[2, 0.2]\n",
            "[2, 0.4]\n",
            "[2, 0.6000000000000001]\n",
            "[2, 0.8]\n",
            "[2, 1.0]\n",
            "[2, 1.2]\n",
            "[2, 1.4000000000000001]\n",
            "[2, 1.6]\n",
            "[2, 1.8]\n",
            "[2, 2.0]\n",
            "[2, 2.2]\n",
            "[2, 2.4000000000000004]\n",
            "[2, 2.6000000000000005]\n",
            "[2, 2.8000000000000003]\n",
            "[2, 3.0000000000000004]\n",
            "[2, 3.2]\n",
            "[2, 3.4000000000000004]\n",
            "[2, 3.6000000000000005]\n",
            "[2, 3.8000000000000003]\n",
            "[2, 4.0]\n",
            "[2, 4.2]\n",
            "[2, 4.4]\n",
            "[2, 4.6000000000000005]\n",
            "[2, 4.800000000000001]\n",
            "[3, 0.2]\n",
            "[3, 0.4]\n",
            "[3, 0.6000000000000001]\n",
            "[3, 0.8]\n",
            "[3, 1.0]\n",
            "[3, 1.2]\n",
            "[3, 1.4000000000000001]\n",
            "[3, 1.6]\n",
            "[3, 1.8]\n",
            "[3, 2.0]\n",
            "[3, 2.2]\n",
            "[3, 2.4000000000000004]\n",
            "[3, 2.6000000000000005]\n",
            "[3, 2.8000000000000003]\n",
            "[3, 3.0000000000000004]\n",
            "[3, 3.2]\n",
            "[3, 3.4000000000000004]\n",
            "[3, 3.6000000000000005]\n",
            "[3, 3.8000000000000003]\n",
            "[3, 4.0]\n",
            "[3, 4.2]\n",
            "[3, 4.4]\n",
            "[3, 4.6000000000000005]\n",
            "[3, 4.800000000000001]\n",
            "[4, 0.2]\n",
            "[4, 0.4]\n",
            "[4, 0.6000000000000001]\n",
            "[4, 0.8]\n",
            "[4, 1.0]\n",
            "[4, 1.2]\n",
            "[4, 1.4000000000000001]\n",
            "[4, 1.6]\n",
            "[4, 1.8]\n",
            "[4, 2.0]\n",
            "[4, 2.2]\n",
            "[4, 2.4000000000000004]\n",
            "[4, 2.6000000000000005]\n",
            "[4, 2.8000000000000003]\n",
            "[4, 3.0000000000000004]\n",
            "[4, 3.2]\n",
            "[4, 3.4000000000000004]\n",
            "[4, 3.6000000000000005]\n",
            "[4, 3.8000000000000003]\n",
            "[4, 4.0]\n",
            "[4, 4.2]\n",
            "[4, 4.4]\n",
            "[4, 4.6000000000000005]\n",
            "[4, 4.800000000000001]\n"
          ],
          "name": "stdout"
        }
      ]
    },
    {
      "cell_type": "markdown",
      "metadata": {
        "id": "XeoqQPqJEj8I"
      },
      "source": [
        "Grafico como me quedan las BA para cada combinación de hiperparametros, y puedo encontrar cual es la BA máxima para cada caso, y con qué hiperparámetros la obtengo."
      ]
    },
    {
      "cell_type": "code",
      "metadata": {
        "colab": {
          "base_uri": "https://localhost:8080/",
          "height": 637
        },
        "id": "6JbmaIttEeAx",
        "outputId": "c92200c8-1736-419a-8fd2-a8a9325e032b"
      },
      "source": [
        "\n",
        "fig, ax = plt.subplots(1,1, figsize=(8,8))  # visualizacion train set\n",
        "img = ax.imshow(mean_BA_train) # graficamos la matriz\n",
        "y_label_list = n_values # estos son los ticks de los ejes\n",
        "x_label_list = c_values\n",
        "ax.set_xticks(np.arange(len(c_values))) # creo los ticks de los ejes\n",
        "ax.set_yticks(np.arange(len(n_values)))\n",
        "ax.set_yticklabels(y_label_list) # pongo los ticks de los ejes\n",
        "ax.set_xticklabels(x_label_list)\n",
        "plt.xlabel('C (constante de regularizacion)', fontsize=15) # le pongo nombre a ejes y titulo \n",
        "plt.ylabel('n (potencia maxima para elevar)', fontsize=15)\n",
        "plt.title('BA (train set)', fontsize=20)\n",
        "fig.colorbar(img, orientation=\"horizontal\", pad=0.2) # la barra de colores donde no me moleste\n",
        "\n",
        "fig, ax = plt.subplots(1,1, figsize=(8,8)) # visualizacion test set, ver comentarios para el caso train, es idéntico\n",
        "img = ax.imshow(mean_BA_test)\n",
        "y_label_list = n_values\n",
        "x_label_list = c_values\n",
        "ax.set_xticks(np.arange(len(c_values)))\n",
        "ax.set_yticks(np.arange(len(n_values)))\n",
        "ax.set_yticklabels(y_label_list)\n",
        "ax.set_xticklabels(x_label_list)\n",
        "plt.xlabel('C (constante de regularizacion)', fontsize=15)\n",
        "plt.ylabel('n (potencia maxima para elevar)', fontsize=15)\n",
        "plt.title('BA (test set)', fontsize=20)\n",
        "fig.colorbar(img, orientation=\"horizontal\", pad=0.2)\n"
      ],
      "execution_count": 52,
      "outputs": [
        {
          "output_type": "execute_result",
          "data": {
            "text/plain": [
              "<matplotlib.colorbar.Colorbar at 0x7f03688ebf90>"
            ]
          },
          "metadata": {
            "tags": []
          },
          "execution_count": 52
        },
        {
          "output_type": "display_data",
          "data": {
            "image/png": "[encoded data removed]",
            "text/plain": [
              "<Figure size 576x576 with 2 Axes>"
            ]
          },
          "metadata": {
            "tags": [],
            "needs_background": "light"
          }
        },
        {
          "output_type": "display_data",
          "data": {
            "image/png": "[encoded data removed]",
            "text/plain": [
              "<Figure size 576x576 with 2 Axes>"
            ]
          },
          "metadata": {
            "tags": [],
            "needs_background": "light"
          }
        }
      ]
    }
  ]
}