{
  "nbformat": 4,
  "nbformat_minor": 0,
  "metadata": {
    "colab": {
      "name": "Ejercitacion 2.ipynb",
      "provenance": [],
      "collapsed_sections": [],
      "authorship_tag": "ABX9TyO+rekGbA+B4xDMIzWVGQB6",
      "include_colab_link": true
    },
    "kernelspec": {
      "name": "python3",
      "display_name": "Python 3"
    },
    "language_info": {
      "name": "python"
    }
  },
  "cells": [
    {
      "cell_type": "markdown",
      "metadata": {
        "id": "view-in-github",
        "colab_type": "text"
      },
      "source": [
        "<a href=\"https://colab.research.google.com/github/hcgalvan/labodedatos/blob/main/Ejercitacion_2.ipynb\" target=\"_parent\"><img src=\"https://colab.research.google.com/assets/colab-badge.svg\" alt=\"Open In Colab\"/></a>"
      ]
    },
    {
      "cell_type": "markdown",
      "metadata": {
        "id": "jXrtg-Bio7dw"
      },
      "source": [
        "# Instrucciones Generales del Proyecto"
      ]
    },
    {
      "cell_type": "markdown",
      "metadata": {
        "id": "nNPZkqnBoNZA"
      },
      "source": [
        "**Instrucciones**\n",
        "\n",
        "El objetivo de la segunda ejercitación obligatoria es predecir el uso de anticoncepción en base a datos demográficos. \n",
        "\n",
        "Ustedes van a bajar los datos, entrenar un modelo basado en regresión logística, optimizarlo, etc., usando las herramientas que vimos en la clase.\n",
        "\n",
        "Luego, les vamos a pasar datos sin etiquetas y ustedes estimarán la probabilidad de que la etiqueta sea positiva (uso de anticoncepción). \n",
        "\n",
        "Finalmente, nosotros usaremos esa información para calcular un AUC y rankearlos de acuerdo a la performance de sus modelos. Publicaremos el top 10 únicamente, y los primeros tres tendrán premios fantásticos. Además, serán invitados a mostrar sus notebooks y contar sus modelos.\n",
        "\n",
        "La fecha límite para el desarrollo de modelos es el día 7 de Mayo. Ese día les pasamos los datos y nos devuelven las probabilidades.\n",
        "\n",
        "\n",
        "\n"
      ]
    },
    {
      "cell_type": "markdown",
      "metadata": {
        "id": "KWxtHyIApDr_"
      },
      "source": [
        "# Conexion con Datos"
      ]
    },
    {
      "cell_type": "code",
      "metadata": {
        "id": "HjZoe0UNY-Y3",
        "colab": {
          "base_uri": "https://localhost:8080/"
        },
        "outputId": "25585a7e-0a24-4d7f-e4f1-3467cc3e281e"
      },
      "source": [
        "from google.colab import drive\n",
        "drive.mount('/content/drive')\n",
        "import pandas as pd "
      ],
      "execution_count": 1,
      "outputs": [
        {
          "output_type": "stream",
          "text": [
            "Mounted at /content/drive\n"
          ],
          "name": "stdout"
        }
      ]
    },
    {
      "cell_type": "code",
      "metadata": {
        "id": "SnGU9YGKoy_f"
      },
      "source": [
        ""
      ],
      "execution_count": null,
      "outputs": []
    }
  ]
}